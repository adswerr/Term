{
  "cells": [
    {
      "cell_type": "code",
      "execution_count": null,
      "metadata": {
        "colab": {
          "background_save": true
        },
        "id": "Ohe2Km1LpppC"
      },
      "outputs": [],
      "source": [
        "import os\n",
        "from google.colab import drive\n",
        "import itertools\n",
        "from time import time\n",
        "import numpy as np\n",
        "import pandas as pd\n",
        "import matplotlib.pyplot as plt\n",
        "from scipy.io.arff import loadarff\n",
        "from sklearn.preprocessing import StandardScaler, RobustScaler\n",
        "import tensorflow as tf"
      ]
    },
    {
      "cell_type": "code",
      "execution_count": null,
      "metadata": {
        "id": "4rlpnRwJqFk5"
      },
      "outputs": [],
      "source": [
        "drive.mount('/content/gdriv')"
      ]
    },
    {
      "cell_type": "code",
      "execution_count": null,
      "metadata": {
        "colab": {
          "base_uri": "https://localhost:8080/"
        },
        "id": "G4vs8HUMp1rL",
        "outputId": "34cdc805-ed70-4ffa-d4a6-73fa4b18949b"
      },
      "outputs": [
        {
          "data": {
            "text/plain": [
              "['121.ipynb',\n",
              " 'FordA_TRAIN.arff',\n",
              " 'FordA_TEST.arff',\n",
              " 'Ford 엔진.ipynb의 사본',\n",
              " 'ford engine']"
            ]
          },
          "execution_count": 3,
          "metadata": {},
          "output_type": "execute_result"
        }
      ],
      "source": [
        "data_path = \"/content/gdriv/My Drive/ai\" \n",
        "os.listdir(data_path)"
      ]
    },
    {
      "cell_type": "code",
      "execution_count": null,
      "metadata": {
        "colab": {
          "base_uri": "https://localhost:8080/"
        },
        "id": "I6ku3fnQqGLa",
        "outputId": "f073099f-0bce-4c64-81cf-ddd9eb2cf78e"
      },
      "outputs": [
        {
          "name": "stdout",
          "output_type": "stream",
          "text": [
            "train_set.shape: (3601, 501)\n",
            "test_set.shape: (1320, 501)\n"
          ]
        }
      ],
      "source": [
        "train_fn=\"/FordA_TRAIN.arff\"  # Train 데이터 파일명\n",
        "test_fn=\"/FordA_TEST.arff\"  # Test 데이터 파일명\n",
        "\n",
        "def read_ariff(path):     #ariff 확장자를 Load하기 위한 함수\n",
        "    raw_data, meta = loadarff(path)\n",
        "    cols = [x for x in meta]\n",
        "    data2d = np.zeros([raw_data.shape[0],len(cols)])\n",
        "    for i,col in zip(range(len(cols)),cols):\n",
        "        data2d[:,i]=raw_data[col]\n",
        "    return data2d\n",
        "\n",
        "train = read_ariff(data_path + train_fn)\n",
        "test = read_ariff(data_path + test_fn)\n",
        "\n",
        "print(\"train_set.shape:\", train.shape)\n",
        "print(\"test_set.shape:\", test.shape)"
      ]
    },
    {
      "cell_type": "code",
      "execution_count": null,
      "metadata": {
        "id": "ade7igXztmgy"
      },
      "outputs": [],
      "source": [
        "# 데이터 불러오기 방법 1 기준 데이터를 불러왔을 경우, 아래의 주석을 해제\n",
        "x_train_temp = train[:,:-1]\n",
        "y_train_temp = train[:, -1]  # 마지막 column이 Label 값이 있는 column\n",
        "x_test = test[:, :-1]\n",
        "y_test = test[:, -1]  # 마지막 column이 Label 값이 있는 column\n",
        "\n",
        "# # 데이터 불러오기 방법 2로 데이터를 불러왔을 경우, 아래의 주석을 해제\n",
        "#x_train_temp = train[:, 1:]\n",
        "#y_train_temp = train[:, 0]  # 첫번 째 column이 Label 값이 있는 column\n",
        "#x_test = test[:, 1:]\n",
        "#y_test = test[:, 0]  # 첫번 째 column이 Label 값이 있는 column"
      ]
    },
    {
      "cell_type": "code",
      "execution_count": null,
      "metadata": {
        "id": "wCwy950Rtmc2"
      },
      "outputs": [],
      "source": [
        "normal_x = x_train_temp[y_train_temp==1]  # Train_x 데이터 중 정상 데이터\n",
        "abnormal_x = x_train_temp[y_train_temp==-1]  # Train_x 데이터 중 비정상 데이터\n",
        "normal_y = y_train_temp[y_train_temp==1]  # Train_y 데이터 중 정상 데이터\n",
        "abnormal_y = y_train_temp[y_train_temp==-1]  # Train_y 데이터 중 비정상 데이터"
      ]
    },
    {
      "cell_type": "code",
      "execution_count": null,
      "metadata": {
        "id": "1jH6iQ3LtpMU"
      },
      "outputs": [],
      "source": [
        "ind_x_normal = int(normal_x.shape[0]*0.8)  # train_x 데이터를 8:2로 나누기 위한 기준 인덱스 설정\n",
        "ind_y_normal = int(normal_y.shape[0]*0.8)  # train_y 데이터를 8:2로 나누기 위한 기준 인덱스 설정\n",
        "ind_x_abnormal = int(abnormal_x.shape[0]*0.8)  # train_x 데이터를 8:2로 나누기 위한 기준 인덱스 설정\n",
        "ind_y_abnormal = int(abnormal_y.shape[0]*0.8)  # train_y 데이터를 8:2로 나누기 위한 기준 인덱스 설정"
      ]
    },
    {
      "cell_type": "code",
      "execution_count": null,
      "metadata": {
        "id": "nfEExnBBtqoR"
      },
      "outputs": [],
      "source": [
        "x_train = np.concatenate((normal_x[:ind_x_normal], abnormal_x[:ind_x_abnormal]), axis=0)\n",
        "x_valid = np.concatenate((normal_x[ind_x_normal:], abnormal_x[ind_x_abnormal:]), axis=0)\n",
        "y_train = np.concatenate((normal_y[:ind_y_normal], abnormal_y[:ind_y_abnormal]), axis=0)\n",
        "y_valid = np.concatenate((normal_y[ind_y_normal:], abnormal_y[ind_y_abnormal:]), axis=0)"
      ]
    },
    {
      "cell_type": "code",
      "execution_count": null,
      "metadata": {
        "colab": {
          "base_uri": "https://localhost:8080/"
        },
        "id": "n6s0gzb0tsJZ",
        "outputId": "327c7a33-163a-4609-97dc-9bf9c5da7c47"
      },
      "outputs": [
        {
          "name": "stdout",
          "output_type": "stream",
          "text": [
            "x_train.shape: (2880, 500)\n",
            "x_valid.shape: (721, 500)\n",
            "y_train.shape: (2880,)\n",
            "y_valid.shape: (721,)\n",
            "x_test.shape: (1320, 500)\n",
            "y_test.shape: (1320,)\n"
          ]
        }
      ],
      "source": [
        "print(\"x_train.shape:\", x_train.shape)\n",
        "print(\"x_valid.shape:\", x_valid.shape)\n",
        "print(\"y_train.shape:\", y_train.shape)\n",
        "print(\"y_valid.shape:\", y_valid.shape)\n",
        "print(\"x_test.shape:\", x_test.shape)\n",
        "print(\"y_test.shape:\", y_test.shape)"
      ]
    },
    {
      "cell_type": "code",
      "execution_count": null,
      "metadata": {
        "colab": {
          "base_uri": "https://localhost:8080/",
          "height": 297
        },
        "id": "Tz1EykjrtT2T",
        "outputId": "08ae1e75-8da5-47dd-a425-9da3f70eb60b"
      },
      "outputs": [
        {
          "data": {
            "image/png": "[encoded data removed]",
            "text/plain": [
              "<Figure size 576x288 with 3 Axes>"
            ]
          },
          "metadata": {},
          "output_type": "display_data"
        }
      ],
      "source": [
        "# Class의 종류 확인: 정상 1, 비정상 -1\n",
        "classes = np.unique(np.concatenate((y_train, y_test), axis=0))  # classes = array([-1,  1])\n",
        "\n",
        "x = np.arange(len(classes))  # Plot의 X축의 개수 구하기\n",
        "labels = [\"Abnormal\", \"Normal\"]   # Plot의 X축의 이름 구하기\n",
        "\n",
        "values_train = [(y_train == i).sum() for i in classes]  # Train 데이터의 정상/비정상 각 총 개수\n",
        "values_valid = [(y_valid == i).sum() for i in classes]  # Test 데이터의 정상/비정상 각 총 개수\n",
        "values_test = [(y_test == i).sum() for i in classes]  # Test 데이터의 정상/비정상 각 총 개수\n",
        "\n",
        "plt.figure(figsize=(8,4))  # Plot 틀(Figure)의 Size 설정 (5X3)\n",
        "\n",
        "plt.subplot(1,3,1)   # Plot 틀(Figure) 내 3개의 subplot 중 첫 번째(왼쪽) 지정\n",
        "plt.title(\"Training Data\")  # subplot 제목\n",
        "plt.bar(x, values_train, width=0.6, color=[\"red\", \"blue\"])  # Train 데이터의 정상/비정상 개수 BarPlot\n",
        "plt.ylim([0, 1500])\n",
        "plt.xticks(x, labels)  # X축에 변수 기입\n",
        "\n",
        "plt.subplot(1,3,2)  # Plot 틀(Figure) 내 3개의 subplot 중 두 번째(가운데) 지정\n",
        "plt.title(\"Validation Data\")\n",
        "plt.bar(x, values_valid, width=0.6, color=[\"red\", \"blue\"])  # Test 데이터의 정상/비정상 개수 BarPlot\n",
        "plt.ylim([0, 1500])\n",
        "plt.xticks(x, labels)  \n",
        "\n",
        "plt.subplot(1,3,3)  # Plot 틀(Figure) 내 3개의 subplot 중 세 번째(오른쪽) 지정\n",
        "plt.title(\"Test Data\")\n",
        "plt.bar(x, values_test, width=0.6, color=[\"red\", \"blue\"])  # Test 데이터의 정상/비정상 개수 BarPlot\n",
        "plt.ylim([0, 1500])\n",
        "plt.xticks(x, labels)\n",
        "\n",
        "plt.tight_layout()  # 그림 저장\n",
        "plt.savefig(data_path + 'data_imbalance.png', dpi=100, bbox_inches='tight')  # 그림 저장\n",
        "plt.show()  # 그림 출력"
      ]
    },
    {
      "cell_type": "code",
      "execution_count": null,
      "metadata": {
        "colab": {
          "base_uri": "https://localhost:8080/",
          "height": 284
        },
        "id": "xbcsERTFtVZM",
        "outputId": "1083656a-3476-4281-891f-733475b90e06"
      },
      "outputs": [
        {
          "data": {
            "image/png": "[encoded data removed]",
            "text/plain": [
              "<Figure size 720x288 with 1 Axes>"
            ]
          },
          "metadata": {},
          "output_type": "display_data"
        }
      ],
      "source": [
        "import random\n",
        "\n",
        "labels = np.unique(np.concatenate((y_train, y_test), axis=0))  # labels (-1 or 1)\n",
        "\n",
        "plt.figure(figsize = (10, 4))\n",
        "for c in labels:\n",
        "    c_x_train = x_train[y_train == c]\n",
        "    if c == -1: c = c + 1  # 편의 상 Abnormal Class(-1)를 0으로 조정\n",
        "    time_t = random.randint(0, c_x_train.shape[0]) # 0~1404 사이의 랜덤한 정수가 특정 time t가 됨\n",
        "    plt.scatter(range(0, 500), c_x_train[time_t], label=\"class = \" + str(int(c)), marker='o', s=5)\n",
        "    \n",
        "plt.legend(loc=\"lower right\")\n",
        "plt.xlabel(\"Sensor\", fontsize=15)\n",
        "plt.ylabel(\"Sensor Value\", fontsize=15)\n",
        "plt.savefig(data_path + 'ford_data_ts_sample1.png', dpi=100, bbox_inches='tight')\n",
        "plt.show()\n",
        "plt.close()"
      ]
    },
    {
      "cell_type": "code",
      "execution_count": null,
      "metadata": {
        "colab": {
          "base_uri": "https://localhost:8080/",
          "height": 628
        },
        "id": "VyJNSLjMtVW0",
        "outputId": "6b3f6fe6-24c5-439a-eb84-b7bb499301dd"
      },
      "outputs": [
        {
          "name": "stdout",
          "output_type": "stream",
          "text": [
            "비정상 Label 데이터 수:  1476\n"
          ]
        },
        {
          "data": {
            "image/png": "[encoded data removed]",
            "text/plain": [
              "<Figure size 432x288 with 1 Axes>"
            ]
          },
          "metadata": {},
          "output_type": "display_data"
        },
        {
          "name": "stdout",
          "output_type": "stream",
          "text": [
            "정상 Label 데이터 수:  1404\n"
          ]
        },
        {
          "data": {
            "image/png": "[encoded data removed]",
            "text/plain": [
              "<Figure size 432x288 with 1 Axes>"
            ]
          },
          "metadata": {},
          "output_type": "display_data"
        }
      ],
      "source": [
        "def get_scatter_plot(c):\n",
        "    time_t = random.randint(0, c_x_train.shape[0])  # 0~1404 사이의 랜덤한 정수가 특정 time t가 됨\n",
        "    plt.scatter(range(0, c_x_train.shape[1]), c_x_train[time_t], \n",
        "                marker='o', s=5, c=\"r\" if c == -1  else \"b\")\n",
        "    plt.title(\"at time: t_{}\".format(time_t), fontsize=20)\n",
        "    plt.xlabel(\"Sensor\", fontsize=14)\n",
        "    plt.ylabel(\"Sensor Value\", fontsize=14)\n",
        "    plt.savefig(data_path + '{state}.png'.format(state=\"abnormal\" if c == -1 else \"normal\"), \n",
        "                dpi=100, bbox_inches='tight')\n",
        "    plt.show()\n",
        "    plt.close()\n",
        "\n",
        "labels = np.unique(np.concatenate((y_train, y_test), axis=0))\n",
        "\n",
        "for c in labels:\n",
        "    c_x_train = x_train[y_train == c]\n",
        "    if c == -1:\n",
        "        print(\"비정상 Label 데이터 수: \", len(c_x_train))\n",
        "        get_scatter_plot(c)\n",
        "    else:\n",
        "        print(\"정상 Label 데이터 수: \", len(c_x_train))\n",
        "        get_scatter_plot(c)"
      ]
    },
    {
      "cell_type": "code",
      "execution_count": null,
      "metadata": {
        "colab": {
          "base_uri": "https://localhost:8080/",
          "height": 305
        },
        "id": "u5ztBbiQtVUN",
        "outputId": "95a82fd5-15d6-4d5a-b9b2-cc0ad22cba54"
      },
      "outputs": [
        {
          "data": {
            "image/png": "[encoded data removed]",
            "text/plain": [
              "<Figure size 936x288 with 1 Axes>"
            ]
          },
          "metadata": {},
          "output_type": "display_data"
        }
      ],
      "source": [
        "sensor_number = random.randint(0, 500)  # 0~500 사이의 랜덤한 정수가 Sensor 번호가 됨\n",
        "\n",
        "plt.figure(figsize = (13, 4))\n",
        "plt.title(\"sensor_number: {}\".format(sensor_number), fontsize=20)\n",
        "plt.plot(x_train[:, sensor_number])\n",
        "plt.xlabel(\"Time\", fontsize=15)\n",
        "plt.ylabel(\"Sensor Value\", fontsize=15)\n",
        "plt.savefig(data_path + 'ford_a_sensor.png', dpi=100, bbox_inches='tight')\n",
        "plt.show()\n",
        "plt.close()"
      ]
    },
    {
      "cell_type": "code",
      "execution_count": null,
      "metadata": {
        "id": "Jx3N5_IRtVR7"
      },
      "outputs": [],
      "source": [
        "import matplotlib.cm as cm\n",
        "from matplotlib.collections import EllipseCollection\n",
        "\n",
        "df = pd.DataFrame(data = x_train, \n",
        "                  columns= [\"sensor_{}\".format(label+1) for label in range(x_train.shape[1])])\n",
        "\n",
        "data = df.corr()\n",
        "\n",
        "def plot_corr_ellipses(data, ax =None, **kwargs):\n",
        "\n",
        "    M = np.array(data)\n",
        "    if not M.ndim == 2:\n",
        "        raise ValueError('data must be a 2D array')\n",
        "    if ax is None:\n",
        "        fig, ax = plt.subplots(1, 1, subplot_kw={'aspect':'equal'})\n",
        "        ax.set_xlim(-0.5, M.shape[1] - 0.5)\n",
        "        ax.set_ylim(-0.5, M.shape[0] - 0.5)\n",
        "\n",
        "    xy = np.indices(M.shape)[::-1].reshape(2, -1).T\n",
        "\n",
        "    w = np.ones_like(M).ravel()\n",
        "    h = 1 - np.abs(M).ravel()\n",
        "    a = 45 * np.sign(M).ravel()\n",
        "\n",
        "    ec = EllipseCollection(widths=w, heights=h, angles=a, units='x', offsets=xy,\n",
        "                           transOffset=ax.transData, array=M.ravel(), **kwargs)\n",
        "    ax.add_collection(ec)\n",
        "\n",
        "    if isinstance(data, pd.DataFrame):\n",
        "        ax.set_xticks(np.arange(M.shape[1]))\n",
        "        ax.set_xticklabels(data.columns, rotation=90)\n",
        "        ax.set_yticks(np.arange(M.shape[0]))\n",
        "        ax.set_yticklabels(data.index)\n",
        "    return ec\n",
        "\n",
        "\n",
        "fig, ax = plt.subplots(1, 1, figsize=(20, 20))\n",
        "cmap = cm.get_cmap('jet', 31)\n",
        "m = plot_corr_ellipses(data, ax=ax, cmap=cmap)\n",
        "cb = fig.colorbar(m)\n",
        "cb.set_label('Correlation coefficient')\n",
        "# ax.margins(0.1)\n",
        "\n",
        "plt.title('Correlation between Feature')\n",
        "# labels = label\n",
        "ax.axes.xaxis.set_visible(False)\n",
        "ax.axes.yaxis.set_visible(False)\n",
        "plt.tight_layout()\n",
        "plt.savefig(data_path + 'corr.png', dpi=100, bbox_inches='tight')  # 그림 저장\n",
        "\n",
        "#plt.show()"
      ]
    },
    {
      "cell_type": "code",
      "execution_count": null,
      "metadata": {
        "id": "NzrgKJ0RtVPS"
      },
      "outputs": [],
      "source": [
        "from sklearn.preprocessing import StandardScaler\n",
        "from sklearn.preprocessing import RobustScaler\n",
        "\n",
        "# Standard Scaler를 적용\n",
        "stder = StandardScaler() \n",
        "stder.fit(x_train)\n",
        "x_train = stder.transform(x_train)\n",
        "x_valid = stder.transform(x_valid)\n",
        "\n",
        "# Robust Scaler를 적용\n",
        "#rscaler = RobustScaler() \n",
        "#rscaler.fit(x_train)\n",
        "#x_train = rscaler.transform(x_train)\n",
        "#x_valid = rscaler.transform(x_valid)"
      ]
    },
    {
      "cell_type": "code",
      "execution_count": null,
      "metadata": {
        "colab": {
          "base_uri": "https://localhost:8080/"
        },
        "id": "jlLF-fO6tVMq",
        "outputId": "22f8f9d2-9265-49ce-94f2-a2e4746a7462"
      },
      "outputs": [
        {
          "name": "stdout",
          "output_type": "stream",
          "text": [
            "x_train_exp의 형태: (2880, 500, 1)\n",
            "x_valid_exp의 형태: (721, 500, 1)\n",
            "x_test_exp의 형태: (1320, 500, 1)\n"
          ]
        }
      ],
      "source": [
        "# CNN, RNN 모델의 입력 변수는 채널 축 1개 차원을 확장시킨 3D Tensor이다.\n",
        "# 즉 아래 CNN, RNN 모델은 x_train, x_valid, x_test를 입력 변수로 넣지 않고, \n",
        "# x_train_exp, x_valid_exp, x_test_exp을 넣는다. \n",
        "x_train_exp = np.expand_dims(x_train, -1)  # 채널 축 1개 차원을 확장 시킨(Expand) X_train\n",
        "x_valid_exp = np.expand_dims(x_valid, -1)  # 채널 축 1개 차원을 확장 시킨(Expand) X_vaild \n",
        "x_test_exp = np.expand_dims(x_test, -1)  # 채널 축 1개 차원을 확장 시킨(Expand) X_test\n",
        "\n",
        "# 위와 동일한 코드\n",
        "# x_train_exp = x_train.reshape((x_train.shape[0], x_train.shape[1], 1))\n",
        "# x_valid_exp = x_train.reshape((x_valid.shape[0], x_valid.shape[1], 1))\n",
        "# x_test_exp = x_test.reshape((x_test.shape[0], x_test.shape[1], 1))\n",
        "\n",
        "print(\"x_train_exp의 형태:\", x_train_exp.shape)\n",
        "print(\"x_valid_exp의 형태:\", x_valid_exp.shape)\n",
        "print(\"x_test_exp의 형태:\", x_test_exp.shape)"
      ]
    },
    {
      "cell_type": "code",
      "execution_count": null,
      "metadata": {
        "id": "FVZrsejwtVKC"
      },
      "outputs": [],
      "source": [
        "y_train[y_train == -1] = 0\n",
        "y_valid[y_valid == -1] = 0\n",
        "y_test[y_test == -1] = 0"
      ]
    },
    {
      "cell_type": "code",
      "execution_count": null,
      "metadata": {
        "colab": {
          "base_uri": "https://localhost:8080/"
        },
        "id": "UHf03yEOtVE-",
        "outputId": "a76cd0ef-69f9-488c-e5e4-f03dee0b6969"
      },
      "outputs": [
        {
          "data": {
            "text/plain": [
              "2"
            ]
          },
          "execution_count": 23,
          "metadata": {},
          "output_type": "execute_result"
        }
      ],
      "source": [
        "num_classes = len(np.unique(np.concatenate((y_train, y_test), axis=0)))\n",
        "num_classes"
      ]
    },
    {
      "cell_type": "code",
      "execution_count": null,
      "metadata": {
        "colab": {
          "base_uri": "https://localhost:8080/",
          "height": 90
        },
        "id": "WS0zoihVtVCX",
        "outputId": "732377b5-e112-4d57-cd67-82b5bdf193ef"
      },
      "outputs": [
        {
          "data": {
            "application/vnd.google.colaboratory.intrinsic+json": {
              "type": "string"
            },
            "text/plain": [
              "\"clf_lr_1 = LogisticRegression(penalty='l2',  # 패널티 부여 기준\\n                         tol=0.0001,         \\n                         C=1, \\n                         fit_intercept=True, \\n                         intercept_scaling=1, \\n                         random_state=2,       # 랜덤 번호 시드\\n                         solver='lbfgs',       # 최적화에 사용할 알고리즘 (이외에도 sag, saga, liblinear, newton-cg가 있다.)\\n                         max_iter=1000,        # solver가 수렴하게 만드는 최대 반복 횟수\\n                         multi_class='auto',\\n                         verbose=0)\""
            ]
          },
          "execution_count": 24,
          "metadata": {},
          "output_type": "execute_result"
        }
      ],
      "source": [
        "from sklearn.linear_model import LogisticRegression\n",
        "\n",
        "clf_lr_1 = LogisticRegression()   # 디폴트값 사용\n",
        "\"\"\"clf_lr_1 = LogisticRegression(penalty='l2',  # 패널티 부여 기준\n",
        "                         tol=0.0001,         \n",
        "                         C=1, \n",
        "                         fit_intercept=True, \n",
        "                         intercept_scaling=1, \n",
        "                         random_state=2,       # 랜덤 번호 시드\n",
        "                         solver='lbfgs',       # 최적화에 사용할 알고리즘 (이외에도 sag, saga, liblinear, newton-cg가 있다.)\n",
        "                         max_iter=1000,        # solver가 수렴하게 만드는 최대 반복 횟수\n",
        "                         multi_class='auto',\n",
        "                         verbose=0)\"\"\""
      ]
    },
    {
      "cell_type": "code",
      "execution_count": null,
      "metadata": {
        "id": "00dmyXhBtVAQ"
      },
      "outputs": [],
      "source": [
        "class LogisticRegression:\n",
        "    def __init__(self, lr=0.01, num_iter=1000, fit_intercept=True, verbose=False):\n",
        "        self.lr = lr\n",
        "        self.num_iter = num_iter\n",
        "        self.fit_intercept = fit_intercept\n",
        "        self.verbose = verbose\n",
        "        self.eps = 1e-10\n",
        "        self.threshold = 0.5\n",
        "        self.loss_history = list()\n",
        "    \n",
        "    def __add_intercept(self, X):\n",
        "        intercept = np.ones((X.shape[0], 1))\n",
        "        return np.concatenate((intercept, X), axis=1)\n",
        "    \n",
        "    def __sigmoid(self, z):\n",
        "        return 1 / (1 + np.exp(-z))\n",
        "        \n",
        "    def __loss(self, h, y):\n",
        "        return (-y * np.log(h+ self.eps) - (1 - y) * np.log(1 - h + self.eps)).mean()\n",
        "    \n",
        "    def fit(self, X, y):\n",
        "        if self.fit_intercept:\n",
        "            X = self.__add_intercept(X)\n",
        "        \n",
        "        # weights initialization\n",
        "        self.theta = np.zeros(X.shape[1])\n",
        "        \n",
        "        for i in range(self.num_iter):\n",
        "            logit = np.dot(X, self.theta)\n",
        "            hypothesis = self.__sigmoid(logit)\n",
        "            gradient = np.dot(X.T, (hypothesis - y)) / y.size\n",
        "            self.theta -= self.lr * gradient\n",
        "            \n",
        "            if self.verbose == True and i % 10 == 0:\n",
        "                loss = self.__loss(hypothesis, y)\n",
        "                print(f'epoch: {i} \\t loss: {loss} \\t')\n",
        "                self.loss_history.append(loss)\n",
        "        return self.loss_history\n",
        "    \n",
        "    def predict_prob(self, X):\n",
        "        if self.fit_intercept:\n",
        "            X = self.__add_intercept(X)\n",
        "    \n",
        "        return self.__sigmoid(np.dot(X, self.theta))\n",
        "    \n",
        "    def predict(self, X):\n",
        "        predicted_labels = np.where(self.predict_prob(X) > self.threshold, 1, 0)\n",
        "        return predicted_labels\n",
        "\n",
        "    def eval(self, x, y):\n",
        "        res_y = np.round(self.predict_prob(x), 0)\n",
        "        accuracy = np.sum(res_y==y) / len(y)\n",
        "\n",
        "        return accuracy"
      ]
    },
    {
      "cell_type": "code",
      "execution_count": null,
      "metadata": {
        "id": "a7LVKGHWtU9f"
      },
      "outputs": [],
      "source": [
        "x_train_lr = np.concatenate((x_train, x_valid), axis=0)  # 로지스틱 회귀 학습용 데이터\n",
        "y_train_lr = np.concatenate((y_train, y_valid), axis=0)  # 로지스틱 회귀 테스트용 데이터"
      ]
    },
    {
      "cell_type": "code",
      "execution_count": null,
      "metadata": {
        "colab": {
          "base_uri": "https://localhost:8080/"
        },
        "id": "aLQqZxbEtU7o",
        "outputId": "9a42493a-bcc4-4a03-dc62-e82c20b8b97a"
      },
      "outputs": [
        {
          "name": "stderr",
          "output_type": "stream",
          "text": [
            "/usr/local/lib/python3.7/dist-packages/sklearn/linear_model/_logistic.py:818: ConvergenceWarning: lbfgs failed to converge (status=1):\n",
            "STOP: TOTAL NO. of ITERATIONS REACHED LIMIT.\n",
            "\n",
            "Increase the number of iterations (max_iter) or scale the data as shown in:\n",
            "    https://scikit-learn.org/stable/modules/preprocessing.html\n",
            "Please also refer to the documentation for alternative solver options:\n",
            "    https://scikit-learn.org/stable/modules/linear_model.html#logistic-regression\n",
            "  extra_warning_msg=_LOGISTIC_SOLVER_CONVERGENCE_MSG,\n"
          ]
        },
        {
          "data": {
            "text/plain": [
              "LogisticRegression()"
            ]
          },
          "execution_count": 27,
          "metadata": {},
          "output_type": "execute_result"
        }
      ],
      "source": [
        "clf_lr_1.fit(x_train_lr, y_train_lr)"
      ]
    },
    {
      "cell_type": "code",
      "execution_count": null,
      "metadata": {
        "colab": {
          "base_uri": "https://localhost:8080/"
        },
        "id": "M5TZc19itU41",
        "outputId": "4d5577df-9dfd-43b3-9aba-d9d1ce74525a"
      },
      "outputs": [
        {
          "name": "stdout",
          "output_type": "stream",
          "text": [
            "epoch: 0 \t loss: 0.6931471803599453 \t\n",
            "epoch: 10 \t loss: 0.6904899637675816 \t\n",
            "epoch: 20 \t loss: 0.6889239094938908 \t\n",
            "epoch: 30 \t loss: 0.6877765367187595 \t\n",
            "epoch: 40 \t loss: 0.6868688414532079 \t\n",
            "epoch: 50 \t loss: 0.6861264028512316 \t\n",
            "epoch: 60 \t loss: 0.685506647126465 \t\n",
            "epoch: 70 \t loss: 0.6849811804514382 \t\n",
            "epoch: 80 \t loss: 0.6845297410991716 \t\n",
            "epoch: 90 \t loss: 0.6841373605861225 \t\n",
            "epoch: 100 \t loss: 0.6837927364357145 \t\n",
            "epoch: 110 \t loss: 0.6834871959245933 \t\n",
            "epoch: 120 \t loss: 0.683213997239752 \t\n",
            "epoch: 130 \t loss: 0.682967841058459 \t\n",
            "epoch: 140 \t loss: 0.6827445205184289 \t\n",
            "epoch: 150 \t loss: 0.6825406655388402 \t\n",
            "epoch: 160 \t loss: 0.6823535532062365 \t\n",
            "epoch: 170 \t loss: 0.6821809653950383 \t\n",
            "epoch: 180 \t loss: 0.6820210807339536 \t\n",
            "epoch: 190 \t loss: 0.6818723918967042 \t\n",
            "epoch: 200 \t loss: 0.6817336417848234 \t\n",
            "epoch: 210 \t loss: 0.6816037739451478 \t\n",
            "epoch: 220 \t loss: 0.6814818938053722 \t\n",
            "epoch: 230 \t loss: 0.6813672381930465 \t\n",
            "epoch: 240 \t loss: 0.681259151239424 \t\n",
            "epoch: 250 \t loss: 0.6811570652339756 \t\n",
            "epoch: 260 \t loss: 0.6810604853381313 \t\n",
            "epoch: 270 \t loss: 0.6809689773222086 \t\n",
            "epoch: 280 \t loss: 0.6808821576813585 \t\n",
            "epoch: 290 \t loss: 0.6807996856316033 \t\n",
            "epoch: 300 \t loss: 0.6807212565976863 \t\n",
            "epoch: 310 \t loss: 0.6806465968892581 \t\n",
            "epoch: 320 \t loss: 0.6805754593272489 \t\n",
            "epoch: 330 \t loss: 0.6805076196328506 \t\n",
            "epoch: 340 \t loss: 0.6804428734308356 \t\n",
            "epoch: 350 \t loss: 0.6803810337496367 \t\n",
            "epoch: 360 \t loss: 0.6803219289246257 \t\n",
            "epoch: 370 \t loss: 0.6802654008299363 \t\n",
            "epoch: 380 \t loss: 0.6802113033790549 \t\n",
            "epoch: 390 \t loss: 0.6801595012461875 \t\n",
            "epoch: 400 \t loss: 0.6801098687697438 \t\n",
            "epoch: 410 \t loss: 0.680062289006708 \t\n",
            "epoch: 420 \t loss: 0.6800166529125838 \t\n",
            "epoch: 430 \t loss: 0.6799728586263369 \t\n",
            "epoch: 440 \t loss: 0.6799308108435421 \t\n",
            "epoch: 450 \t loss: 0.6798904202639978 \t\n",
            "epoch: 460 \t loss: 0.6798516031025208 \t\n",
            "epoch: 470 \t loss: 0.6798142806536112 \t\n",
            "epoch: 480 \t loss: 0.6797783789022929 \t\n",
            "epoch: 490 \t loss: 0.6797438281747246 \t\n",
            "epoch: 500 \t loss: 0.6797105628232488 \t\n",
            "epoch: 510 \t loss: 0.6796785209414048 \t\n",
            "epoch: 520 \t loss: 0.6796476441051431 \t\n",
            "epoch: 530 \t loss: 0.679617877137063 \t\n",
            "epoch: 540 \t loss: 0.6795891678909742 \t\n",
            "epoch: 550 \t loss: 0.6795614670544772 \t\n",
            "epoch: 560 \t loss: 0.6795347279675941 \t\n",
            "epoch: 570 \t loss: 0.6795089064557507 \t\n",
            "epoch: 580 \t loss: 0.6794839606756375 \t\n",
            "epoch: 590 \t loss: 0.6794598509726806 \t\n",
            "epoch: 600 \t loss: 0.6794365397490012 \t\n",
            "epoch: 610 \t loss: 0.6794139913408948 \t\n",
            "epoch: 620 \t loss: 0.6793921719049639 \t\n",
            "epoch: 630 \t loss: 0.6793710493121492 \t\n",
            "epoch: 640 \t loss: 0.6793505930489804 \t\n",
            "epoch: 650 \t loss: 0.6793307741254486 \t\n",
            "epoch: 660 \t loss: 0.6793115649889594 \t\n",
            "epoch: 670 \t loss: 0.6792929394438859 \t\n",
            "epoch: 680 \t loss: 0.6792748725762847 \t\n",
            "epoch: 690 \t loss: 0.6792573406833843 \t\n",
            "epoch: 700 \t loss: 0.6792403212074867 \t\n",
            "epoch: 710 \t loss: 0.679223792673962 \t\n",
            "epoch: 720 \t loss: 0.6792077346330387 \t\n",
            "epoch: 730 \t loss: 0.6791921276051219 \t\n",
            "epoch: 740 \t loss: 0.6791769530293938 \t\n",
            "epoch: 750 \t loss: 0.6791621932154688 \t\n",
            "epoch: 760 \t loss: 0.6791478312978976 \t\n",
            "epoch: 770 \t loss: 0.6791338511933298 \t\n",
            "epoch: 780 \t loss: 0.6791202375601568 \t\n",
            "epoch: 790 \t loss: 0.6791069757604755 \t\n",
            "epoch: 800 \t loss: 0.67909405182422 \t\n",
            "epoch: 810 \t loss: 0.6790814524153255 \t\n",
            "epoch: 820 \t loss: 0.6790691647997928 \t\n",
            "epoch: 830 \t loss: 0.6790571768155356 \t\n",
            "epoch: 840 \t loss: 0.6790454768438988 \t\n",
            "epoch: 850 \t loss: 0.6790340537827461 \t\n",
            "epoch: 860 \t loss: 0.6790228970210197 \t\n",
            "epoch: 870 \t loss: 0.6790119964146817 \t\n",
            "epoch: 880 \t loss: 0.6790013422639583 \t\n",
            "epoch: 890 \t loss: 0.6789909252918028 \t\n",
            "epoch: 900 \t loss: 0.6789807366235114 \t\n",
            "epoch: 910 \t loss: 0.6789707677674192 \t\n",
            "epoch: 920 \t loss: 0.678961010596614 \t\n",
            "epoch: 930 \t loss: 0.6789514573316132 \t\n",
            "epoch: 940 \t loss: 0.6789421005239411 \t\n",
            "epoch: 950 \t loss: 0.6789329330405603 \t\n",
            "epoch: 960 \t loss: 0.6789239480491066 \t\n",
            "epoch: 970 \t loss: 0.6789151390038825 \t\n",
            "epoch: 980 \t loss: 0.678906499632565 \t\n",
            "epoch: 990 \t loss: 0.6788980239235909 \t\n"
          ]
        }
      ],
      "source": [
        "# make and fit model\n",
        "\n",
        "clf_lr_2 = LogisticRegression(lr=0.01, num_iter=1000, verbose=True)\n",
        "history_lr = clf_lr_2.fit(x_train_lr, y_train_lr)"
      ]
    },
    {
      "cell_type": "code",
      "execution_count": null,
      "metadata": {
        "id": "Kas014nFtU2f"
      },
      "outputs": [],
      "source": [
        "y_pred = clf_lr_1.predict(x_test)\n",
        "y_pred_proba = clf_lr_1.predict_proba(x_test)"
      ]
    },
    {
      "cell_type": "code",
      "execution_count": null,
      "metadata": {
        "colab": {
          "base_uri": "https://localhost:8080/"
        },
        "id": "PuJUOs_NtUz5",
        "outputId": "485a7449-d69e-43c7-9946-769dd652f3b0"
      },
      "outputs": [
        {
          "name": "stdout",
          "output_type": "stream",
          "text": [
            "Logistic Regression Prediction Rate: 49.24%\n"
          ]
        }
      ],
      "source": [
        "score = clf_lr_1.score(x_test, y_test)\n",
        "print(\"%s: %.2f%%\" % (\"Logistic Regression Prediction Rate\", score*100)) # Scikit learn 모델"
      ]
    },
    {
      "cell_type": "code",
      "execution_count": null,
      "metadata": {
        "colab": {
          "base_uri": "https://localhost:8080/"
        },
        "id": "2H1K3xoLtUxm",
        "outputId": "fd6bb22a-9b57-47de-e984-82fa72159749"
      },
      "outputs": [
        {
          "name": "stdout",
          "output_type": "stream",
          "text": [
            "Logistic Regression Prediction Rate: 49.17%\n"
          ]
        }
      ],
      "source": [
        "score = clf_lr_2.eval(x_test, y_test)\n",
        "print(\"%s: %.2f%%\" % (\"Logistic Regression Prediction Rate\", score*100))  # numpy로 구현한 모델"
      ]
    },
    {
      "cell_type": "code",
      "execution_count": null,
      "metadata": {
        "id": "Hw2mzY1ztUvb"
      },
      "outputs": [],
      "source": [
        "from sklearn.metrics import classification_report, confusion_matrix\n",
        "\n",
        "def draw_confusion_matrix(model, xt, yt, model_name):\n",
        "    Y_pred = model.predict(xt)\n",
        "    if model_name in [\"cnn\", \"rnn\"]:\n",
        "        y_pred = np.argmax(Y_pred, axis=1)\n",
        "    else: y_pred = Y_pred\n",
        "    plt.figure(figsize=(3,3))\n",
        "    cm = confusion_matrix(yt, y_pred)\n",
        "    plt.imshow(cm, interpolation='nearest', cmap=plt.cm.Blues)\n",
        "    plt.title(\"Confusion Matrix\")\n",
        "    plt.colorbar()\n",
        "    tick_marks = np.arange(2)\n",
        "    plt.xticks(tick_marks, ['abnormal', 'normal'], rotation=45)\n",
        "    plt.yticks(tick_marks, ['abnormal', 'normal'])\n",
        "    thresh = cm.max()/1.2\n",
        "    normalize = False\n",
        "    fmt = '.2f' if normalize else 'd'\n",
        "    for i,j in itertools.product(range(cm.shape[0]), range(cm.shape[1])):\n",
        "        plt.text(j,i, format(cm[i,j], fmt), \n",
        "                 horizontalalignment=\"center\", \n",
        "                 color=\"white\" if cm[i,j] > thresh else \"black\", \n",
        "                 fontsize=12)\n",
        "    plt.ylabel(\"Actual Label\")\n",
        "    plt.xlabel(\"Predicted Label\")\n",
        "    plt.tight_layout()\n",
        "    plt.savefig(data_path + '{}_cm.png'.format(model_name), dpi=100, bbox_inches='tight')  # 그림 저장\n",
        "    plt.show()\n",
        "    print(classification_report(yt, y_pred))"
      ]
    },
    {
      "cell_type": "code",
      "execution_count": null,
      "metadata": {
        "id": "5lyfQqF1bK7n"
      },
      "outputs": [],
      "source": [
        "from sklearn.metrics import roc_curve, auc\n",
        "\n",
        "def draw_roc(model,xt, yt, model_name):\n",
        "    Y_pred = model.predict(xt)\n",
        "    if model_name in [\"cnn\", \"rnn\"]:\n",
        "        y_pred = np.argmax(Y_pred, axis=1)\n",
        "    else: y_pred = Y_pred\n",
        "    fpr, tpr, thr = roc_curve(yt, y_pred)\n",
        "    roc_auc = auc(fpr, tpr)\n",
        "    plt.figure()\n",
        "    lw = 2\n",
        "    plt.plot(fpr, tpr, color='darkorange',\n",
        "             lw=lw, label='ROC curve (area = %0.2f)' % roc_auc)\n",
        "    plt.plot([0, 1], [0, 1], color='navy', lw=lw, linestyle='--')\n",
        "    plt.xlim([0.0, 1.0])\n",
        "    plt.ylim([0.0, 1.05])\n",
        "    plt.xlabel('False Positive Rate')\n",
        "    plt.ylabel('True Positive Rate')\n",
        "    plt.title('Receiver operating characteristic {};'.format(model_name))\n",
        "    plt.legend(loc=\"lower right\")\n",
        "    plt.ion()\n",
        "    plt.tight_layout()\n",
        "    plt.savefig(data_path + '{}_roc.png'.format(model_name), dpi=100, bbox_inches='tight')  # 그림 저장\n",
        "    plt.show()"
      ]
    },
    {
      "cell_type": "code",
      "execution_count": null,
      "metadata": {
        "colab": {
          "base_uri": "https://localhost:8080/",
          "height": 376
        },
        "id": "3I8WTzULtUsr",
        "outputId": "443ed097-c6ec-422d-eaa8-9e258b20dd1b"
      },
      "outputs": [
        {
          "data": {
            "image/png": "[encoded data removed]",
            "text/plain": [
              "<Figure size 216x216 with 2 Axes>"
            ]
          },
          "metadata": {},
          "output_type": "display_data"
        },
        {
          "name": "stdout",
          "output_type": "stream",
          "text": [
            "              precision    recall  f1-score   support\n",
            "\n",
            "         0.0       0.51      0.56      0.53       681\n",
            "         1.0       0.47      0.42      0.45       639\n",
            "\n",
            "    accuracy                           0.49      1320\n",
            "   macro avg       0.49      0.49      0.49      1320\n",
            "weighted avg       0.49      0.49      0.49      1320\n",
            "\n"
          ]
        }
      ],
      "source": [
        "draw_confusion_matrix(clf_lr_1, x_test, y_test, \"logistic_regression_sklearn\")"
      ]
    },
    {
      "cell_type": "code",
      "execution_count": null,
      "metadata": {
        "colab": {
          "base_uri": "https://localhost:8080/",
          "height": 376
        },
        "id": "370kVQDftUqR",
        "outputId": "79f14ab5-93fb-4666-c930-bc07ba858891"
      },
      "outputs": [
        {
          "data": {
            "image/png": "[encoded data removed]",
            "text/plain": [
              "<Figure size 216x216 with 2 Axes>"
            ]
          },
          "metadata": {},
          "output_type": "display_data"
        },
        {
          "name": "stdout",
          "output_type": "stream",
          "text": [
            "              precision    recall  f1-score   support\n",
            "\n",
            "         0.0       0.51      0.56      0.53       681\n",
            "         1.0       0.47      0.42      0.45       639\n",
            "\n",
            "    accuracy                           0.49      1320\n",
            "   macro avg       0.49      0.49      0.49      1320\n",
            "weighted avg       0.49      0.49      0.49      1320\n",
            "\n"
          ]
        }
      ],
      "source": [
        "draw_confusion_matrix(clf_lr_2, x_test, y_test, \"logistic_regression_numpy\")"
      ]
    },
    {
      "cell_type": "code",
      "execution_count": null,
      "metadata": {
        "colab": {
          "base_uri": "https://localhost:8080/",
          "height": 297
        },
        "id": "KFcEUdPttUoD",
        "outputId": "5964040d-77af-4950-ac3e-22da2bc683a3"
      },
      "outputs": [
        {
          "data": {
            "image/png": "[encoded data removed]",
            "text/plain": [
              "<Figure size 432x288 with 1 Axes>"
            ]
          },
          "metadata": {},
          "output_type": "display_data"
        }
      ],
      "source": [
        "plt.figure()\n",
        "plt.plot(history_lr)\n",
        "plt.title(\"Training Loss\")\n",
        "plt.ylabel(\"loss\", fontsize=\"large\")\n",
        "plt.xlabel(\"epoch\", fontsize=\"large\")\n",
        "plt.tight_layout()\n",
        "plt.savefig(data_path + 'lr_learning_curve.png', dpi=100, bbox_inches='tight')  # 그림 저장\n",
        "plt.show()\n",
        "plt.close()"
      ]
    },
    {
      "cell_type": "code",
      "execution_count": null,
      "metadata": {
        "colab": {
          "base_uri": "https://localhost:8080/"
        },
        "id": "hCOxV5sMCeB8",
        "outputId": "b69eb1b4-ad1e-4463-c8a2-d0e56de8d091"
      },
      "outputs": [
        {
          "name": "stdout",
          "output_type": "stream",
          "text": [
            "Requirement already satisfied: xgboost in /usr/local/lib/python3.7/dist-packages (0.90)\n",
            "Requirement already satisfied: scipy in /usr/local/lib/python3.7/dist-packages (from xgboost) (1.4.1)\n",
            "Requirement already satisfied: numpy in /usr/local/lib/python3.7/dist-packages (from xgboost) (1.19.5)\n"
          ]
        }
      ],
      "source": [
        "!pip install xgboost\n",
        "from xgboost import XGBClassifier\n",
        "\n",
        "\"\"\"\n",
        "# 반드시 튜닝해야할 파라미터는  min_child_weight / max_depth / gamma\n",
        "\"\"\"\n",
        "\n",
        "xgb = XGBClassifier(\n",
        "    learning_rate=0.1, \n",
        "    n_estimators=500, \n",
        "    max_depth=5,\n",
        "    min_child_weight=3, \n",
        "    gamma=0.2, \n",
        "    subsample=0.6, \n",
        "    colsample_bytree=1.0,\n",
        "    objective='binary:logistic', \n",
        "    nthread=4, \n",
        "    scale_pos_weight=1, \n",
        "    seed=27)"
      ]
    },
    {
      "cell_type": "code",
      "execution_count": null,
      "metadata": {
        "colab": {
          "base_uri": "https://localhost:8080/",
          "height": 1000
        },
        "id": "Xjg5pxOOCqYm",
        "outputId": "7d4791f2-1aea-422d-8de6-c1ec313b8e0f"
      },
      "outputs": [
        {
          "name": "stdout",
          "output_type": "stream",
          "text": [
            "[0]\tvalidation_0-auc:0.683769\tvalidation_0-error:0.352083\tvalidation_1-auc:0.556568\tvalidation_1-error:0.445215\n",
            "[1]\tvalidation_0-auc:0.730083\tvalidation_0-error:0.33125\tvalidation_1-auc:0.60576\tvalidation_1-error:0.417476\n",
            "[2]\tvalidation_0-auc:0.756296\tvalidation_0-error:0.315625\tvalidation_1-auc:0.609841\tvalidation_1-error:0.417476\n",
            "[3]\tvalidation_0-auc:0.799655\tvalidation_0-error:0.276042\tvalidation_1-auc:0.617937\tvalidation_1-error:0.40638\n",
            "[4]\tvalidation_0-auc:0.818645\tvalidation_0-error:0.261806\tvalidation_1-auc:0.644995\tvalidation_1-error:0.382802\n",
            "[5]\tvalidation_0-auc:0.833596\tvalidation_0-error:0.249306\tvalidation_1-auc:0.6458\tvalidation_1-error:0.385576\n",
            "[6]\tvalidation_0-auc:0.85182\tvalidation_0-error:0.239236\tvalidation_1-auc:0.662909\tvalidation_1-error:0.395284\n",
            "[7]\tvalidation_0-auc:0.863193\tvalidation_0-error:0.223958\tvalidation_1-auc:0.666359\tvalidation_1-error:0.378641\n",
            "[8]\tvalidation_0-auc:0.886401\tvalidation_0-error:0.197917\tvalidation_1-auc:0.683999\tvalidation_1-error:0.377254\n",
            "[9]\tvalidation_0-auc:0.891188\tvalidation_0-error:0.195139\tvalidation_1-auc:0.681197\tvalidation_1-error:0.378641\n",
            "[10]\tvalidation_0-auc:0.899142\tvalidation_0-error:0.182639\tvalidation_1-auc:0.691661\tvalidation_1-error:0.36061\n",
            "[11]\tvalidation_0-auc:0.907881\tvalidation_0-error:0.175347\tvalidation_1-auc:0.702264\tvalidation_1-error:0.352288\n",
            "[12]\tvalidation_0-auc:0.912596\tvalidation_0-error:0.167014\tvalidation_1-auc:0.704358\tvalidation_1-error:0.367545\n",
            "[13]\tvalidation_0-auc:0.921004\tvalidation_0-error:0.15625\tvalidation_1-auc:0.709741\tvalidation_1-error:0.359223\n",
            "[14]\tvalidation_0-auc:0.92438\tvalidation_0-error:0.152083\tvalidation_1-auc:0.708231\tvalidation_1-error:0.355062\n",
            "[15]\tvalidation_0-auc:0.9307\tvalidation_0-error:0.140625\tvalidation_1-auc:0.714699\tvalidation_1-error:0.349515\n",
            "[16]\tvalidation_0-auc:0.930729\tvalidation_0-error:0.143403\tvalidation_1-auc:0.713406\tvalidation_1-error:0.349515\n",
            "[17]\tvalidation_0-auc:0.933671\tvalidation_0-error:0.138542\tvalidation_1-auc:0.71329\tvalidation_1-error:0.345354\n",
            "[18]\tvalidation_0-auc:0.938517\tvalidation_0-error:0.132292\tvalidation_1-auc:0.715077\tvalidation_1-error:0.356449\n",
            "[19]\tvalidation_0-auc:0.941093\tvalidation_0-error:0.127431\tvalidation_1-auc:0.721583\tvalidation_1-error:0.341193\n",
            "[20]\tvalidation_0-auc:0.943606\tvalidation_0-error:0.130556\tvalidation_1-auc:0.720628\tvalidation_1-error:0.345354\n",
            "[21]\tvalidation_0-auc:0.947899\tvalidation_0-error:0.120833\tvalidation_1-auc:0.725071\tvalidation_1-error:0.34258\n",
            "[22]\tvalidation_0-auc:0.95168\tvalidation_0-error:0.1125\tvalidation_1-auc:0.730022\tvalidation_1-error:0.335645\n",
            "[23]\tvalidation_0-auc:0.956454\tvalidation_0-error:0.105556\tvalidation_1-auc:0.732101\tvalidation_1-error:0.339806\n",
            "[24]\tvalidation_0-auc:0.958209\tvalidation_0-error:0.103819\tvalidation_1-auc:0.734689\tvalidation_1-error:0.335645\n",
            "[25]\tvalidation_0-auc:0.961169\tvalidation_0-error:0.100347\tvalidation_1-auc:0.740833\tvalidation_1-error:0.338419\n",
            "[26]\tvalidation_0-auc:0.964096\tvalidation_0-error:0.098958\tvalidation_1-auc:0.737514\tvalidation_1-error:0.330097\n",
            "[27]\tvalidation_0-auc:0.965303\tvalidation_0-error:0.09375\tvalidation_1-auc:0.738446\tvalidation_1-error:0.332871\n",
            "[28]\tvalidation_0-auc:0.968164\tvalidation_0-error:0.090972\tvalidation_1-auc:0.740132\tvalidation_1-error:0.332871\n",
            "[29]\tvalidation_0-auc:0.969894\tvalidation_0-error:0.089236\tvalidation_1-auc:0.740448\tvalidation_1-error:0.332871\n",
            "[30]\tvalidation_0-auc:0.970998\tvalidation_0-error:0.084028\tvalidation_1-auc:0.74178\tvalidation_1-error:0.32871\n",
            "[31]\tvalidation_0-auc:0.972795\tvalidation_0-error:0.081944\tvalidation_1-auc:0.737718\tvalidation_1-error:0.32871\n",
            "[32]\tvalidation_0-auc:0.974178\tvalidation_0-error:0.078125\tvalidation_1-auc:0.74272\tvalidation_1-error:0.325936\n",
            "[33]\tvalidation_0-auc:0.976363\tvalidation_0-error:0.074306\tvalidation_1-auc:0.74349\tvalidation_1-error:0.316227\n",
            "[34]\tvalidation_0-auc:0.977048\tvalidation_0-error:0.072569\tvalidation_1-auc:0.744806\tvalidation_1-error:0.320388\n",
            "[35]\tvalidation_0-auc:0.978119\tvalidation_0-error:0.072569\tvalidation_1-auc:0.749134\tvalidation_1-error:0.319001\n",
            "[36]\tvalidation_0-auc:0.979174\tvalidation_0-error:0.067708\tvalidation_1-auc:0.753145\tvalidation_1-error:0.321775\n",
            "[37]\tvalidation_0-auc:0.979437\tvalidation_0-error:0.070486\tvalidation_1-auc:0.754308\tvalidation_1-error:0.319001\n",
            "[38]\tvalidation_0-auc:0.980048\tvalidation_0-error:0.069444\tvalidation_1-auc:0.7537\tvalidation_1-error:0.31484\n",
            "[39]\tvalidation_0-auc:0.981705\tvalidation_0-error:0.063889\tvalidation_1-auc:0.75708\tvalidation_1-error:0.319001\n",
            "[40]\tvalidation_0-auc:0.982015\tvalidation_0-error:0.062847\tvalidation_1-auc:0.758381\tvalidation_1-error:0.31068\n",
            "[41]\tvalidation_0-auc:0.982564\tvalidation_0-error:0.060417\tvalidation_1-auc:0.758597\tvalidation_1-error:0.324549\n",
            "[42]\tvalidation_0-auc:0.984252\tvalidation_0-error:0.057639\tvalidation_1-auc:0.760792\tvalidation_1-error:0.327323\n",
            "[43]\tvalidation_0-auc:0.985413\tvalidation_0-error:0.055556\tvalidation_1-auc:0.768515\tvalidation_1-error:0.32871\n",
            "[44]\tvalidation_0-auc:0.986393\tvalidation_0-error:0.051736\tvalidation_1-auc:0.769231\tvalidation_1-error:0.317614\n",
            "[45]\tvalidation_0-auc:0.987405\tvalidation_0-error:0.051736\tvalidation_1-auc:0.773443\tvalidation_1-error:0.316227\n",
            "[46]\tvalidation_0-auc:0.988632\tvalidation_0-error:0.047569\tvalidation_1-auc:0.7769\tvalidation_1-error:0.319001\n",
            "[47]\tvalidation_0-auc:0.989324\tvalidation_0-error:0.044792\tvalidation_1-auc:0.77931\tvalidation_1-error:0.309293\n",
            "[48]\tvalidation_0-auc:0.989732\tvalidation_0-error:0.044444\tvalidation_1-auc:0.782151\tvalidation_1-error:0.305132\n",
            "[49]\tvalidation_0-auc:0.99\tvalidation_0-error:0.044097\tvalidation_1-auc:0.782606\tvalidation_1-error:0.299584\n",
            "[50]\tvalidation_0-auc:0.990677\tvalidation_0-error:0.041667\tvalidation_1-auc:0.781428\tvalidation_1-error:0.299584\n",
            "[51]\tvalidation_0-auc:0.991283\tvalidation_0-error:0.0375\tvalidation_1-auc:0.783191\tvalidation_1-error:0.29681\n",
            "[52]\tvalidation_0-auc:0.991453\tvalidation_0-error:0.036458\tvalidation_1-auc:0.784962\tvalidation_1-error:0.299584\n",
            "[53]\tvalidation_0-auc:0.99212\tvalidation_0-error:0.037847\tvalidation_1-auc:0.786025\tvalidation_1-error:0.287101\n",
            "[54]\tvalidation_0-auc:0.992796\tvalidation_0-error:0.035764\tvalidation_1-auc:0.789774\tvalidation_1-error:0.287101\n",
            "[55]\tvalidation_0-auc:0.993244\tvalidation_0-error:0.036458\tvalidation_1-auc:0.789905\tvalidation_1-error:0.288488\n",
            "[56]\tvalidation_0-auc:0.993431\tvalidation_0-error:0.035764\tvalidation_1-auc:0.790629\tvalidation_1-error:0.295423\n",
            "[57]\tvalidation_0-auc:0.993461\tvalidation_0-error:0.035069\tvalidation_1-auc:0.787649\tvalidation_1-error:0.29681\n",
            "[58]\tvalidation_0-auc:0.993753\tvalidation_0-error:0.036458\tvalidation_1-auc:0.789266\tvalidation_1-error:0.291262\n",
            "[59]\tvalidation_0-auc:0.994096\tvalidation_0-error:0.033333\tvalidation_1-auc:0.789728\tvalidation_1-error:0.295423\n",
            "[60]\tvalidation_0-auc:0.994534\tvalidation_0-error:0.034722\tvalidation_1-auc:0.793878\tvalidation_1-error:0.288488\n",
            "[61]\tvalidation_0-auc:0.994785\tvalidation_0-error:0.032986\tvalidation_1-auc:0.793378\tvalidation_1-error:0.292649\n",
            "[62]\tvalidation_0-auc:0.99508\tvalidation_0-error:0.030903\tvalidation_1-auc:0.793878\tvalidation_1-error:0.288488\n",
            "[63]\tvalidation_0-auc:0.99516\tvalidation_0-error:0.031597\tvalidation_1-auc:0.795619\tvalidation_1-error:0.288488\n",
            "[64]\tvalidation_0-auc:0.995419\tvalidation_0-error:0.03125\tvalidation_1-auc:0.79501\tvalidation_1-error:0.28294\n",
            "[65]\tvalidation_0-auc:0.995652\tvalidation_0-error:0.029167\tvalidation_1-auc:0.79354\tvalidation_1-error:0.28294\n",
            "[66]\tvalidation_0-auc:0.995759\tvalidation_0-error:0.030556\tvalidation_1-auc:0.793478\tvalidation_1-error:0.280166\n",
            "[67]\tvalidation_0-auc:0.995919\tvalidation_0-error:0.027778\tvalidation_1-auc:0.792931\tvalidation_1-error:0.281553\n",
            "[68]\tvalidation_0-auc:0.996232\tvalidation_0-error:0.027083\tvalidation_1-auc:0.793632\tvalidation_1-error:0.280166\n",
            "[69]\tvalidation_0-auc:0.996268\tvalidation_0-error:0.025\tvalidation_1-auc:0.796558\tvalidation_1-error:0.281553\n",
            "[70]\tvalidation_0-auc:0.996401\tvalidation_0-error:0.026389\tvalidation_1-auc:0.797336\tvalidation_1-error:0.269071\n",
            "[71]\tvalidation_0-auc:0.99669\tvalidation_0-error:0.023611\tvalidation_1-auc:0.799191\tvalidation_1-error:0.271845\n",
            "[72]\tvalidation_0-auc:0.996833\tvalidation_0-error:0.022569\tvalidation_1-auc:0.800069\tvalidation_1-error:0.271845\n",
            "[73]\tvalidation_0-auc:0.996985\tvalidation_0-error:0.021875\tvalidation_1-auc:0.800708\tvalidation_1-error:0.270458\n",
            "[74]\tvalidation_0-auc:0.997114\tvalidation_0-error:0.021875\tvalidation_1-auc:0.799538\tvalidation_1-error:0.274619\n",
            "[75]\tvalidation_0-auc:0.997277\tvalidation_0-error:0.021875\tvalidation_1-auc:0.801363\tvalidation_1-error:0.266297\n",
            "[76]\tvalidation_0-auc:0.997299\tvalidation_0-error:0.020833\tvalidation_1-auc:0.80057\tvalidation_1-error:0.274619\n",
            "[77]\tvalidation_0-auc:0.997516\tvalidation_0-error:0.019792\tvalidation_1-auc:0.801016\tvalidation_1-error:0.273232\n",
            "[78]\tvalidation_0-auc:0.99778\tvalidation_0-error:0.017708\tvalidation_1-auc:0.800169\tvalidation_1-error:0.273232\n",
            "[79]\tvalidation_0-auc:0.997845\tvalidation_0-error:0.018403\tvalidation_1-auc:0.801532\tvalidation_1-error:0.267684\n",
            "[80]\tvalidation_0-auc:0.998082\tvalidation_0-error:0.017014\tvalidation_1-auc:0.802857\tvalidation_1-error:0.26491\n",
            "[81]\tvalidation_0-auc:0.99818\tvalidation_0-error:0.016319\tvalidation_1-auc:0.802772\tvalidation_1-error:0.271845\n",
            "[82]\tvalidation_0-auc:0.99822\tvalidation_0-error:0.018056\tvalidation_1-auc:0.801509\tvalidation_1-error:0.271845\n",
            "[83]\tvalidation_0-auc:0.998428\tvalidation_0-error:0.016319\tvalidation_1-auc:0.800008\tvalidation_1-error:0.277393\n",
            "[84]\tvalidation_0-auc:0.998463\tvalidation_0-error:0.015972\tvalidation_1-auc:0.800447\tvalidation_1-error:0.276006\n",
            "[85]\tvalidation_0-auc:0.99851\tvalidation_0-error:0.015278\tvalidation_1-auc:0.801571\tvalidation_1-error:0.271845\n",
            "[86]\tvalidation_0-auc:0.998583\tvalidation_0-error:0.013889\tvalidation_1-auc:0.801879\tvalidation_1-error:0.273232\n",
            "[87]\tvalidation_0-auc:0.998707\tvalidation_0-error:0.013542\tvalidation_1-auc:0.802094\tvalidation_1-error:0.270458\n",
            "[88]\tvalidation_0-auc:0.998784\tvalidation_0-error:0.013194\tvalidation_1-auc:0.803219\tvalidation_1-error:0.273232\n",
            "[89]\tvalidation_0-auc:0.99882\tvalidation_0-error:0.013194\tvalidation_1-auc:0.803962\tvalidation_1-error:0.259362\n",
            "[90]\tvalidation_0-auc:0.998838\tvalidation_0-error:0.012847\tvalidation_1-auc:0.80328\tvalidation_1-error:0.266297\n",
            "[91]\tvalidation_0-auc:0.998908\tvalidation_0-error:0.012847\tvalidation_1-auc:0.802279\tvalidation_1-error:0.269071\n",
            "[92]\tvalidation_0-auc:0.998994\tvalidation_0-error:0.013194\tvalidation_1-auc:0.802965\tvalidation_1-error:0.274619\n",
            "[93]\tvalidation_0-auc:0.999095\tvalidation_0-error:0.0125\tvalidation_1-auc:0.802803\tvalidation_1-error:0.276006\n",
            "[94]\tvalidation_0-auc:0.999125\tvalidation_0-error:0.011111\tvalidation_1-auc:0.804535\tvalidation_1-error:0.26491\n",
            "[95]\tvalidation_0-auc:0.999125\tvalidation_0-error:0.011806\tvalidation_1-auc:0.806068\tvalidation_1-error:0.26491\n",
            "[96]\tvalidation_0-auc:0.999197\tvalidation_0-error:0.012153\tvalidation_1-auc:0.807046\tvalidation_1-error:0.26491\n",
            "[97]\tvalidation_0-auc:0.9992\tvalidation_0-error:0.011806\tvalidation_1-auc:0.808239\tvalidation_1-error:0.26491\n",
            "[98]\tvalidation_0-auc:0.999284\tvalidation_0-error:0.011806\tvalidation_1-auc:0.808778\tvalidation_1-error:0.263523\n",
            "[99]\tvalidation_0-auc:0.999281\tvalidation_0-error:0.011458\tvalidation_1-auc:0.809694\tvalidation_1-error:0.267684\n",
            "[100]\tvalidation_0-auc:0.999371\tvalidation_0-error:0.011111\tvalidation_1-auc:0.809317\tvalidation_1-error:0.269071\n",
            "[101]\tvalidation_0-auc:0.999464\tvalidation_0-error:0.010069\tvalidation_1-auc:0.809664\tvalidation_1-error:0.269071\n",
            "[102]\tvalidation_0-auc:0.999454\tvalidation_0-error:0.008681\tvalidation_1-auc:0.811019\tvalidation_1-error:0.263523\n",
            "[103]\tvalidation_0-auc:0.999488\tvalidation_0-error:0.009375\tvalidation_1-auc:0.811196\tvalidation_1-error:0.262136\n",
            "[104]\tvalidation_0-auc:0.999514\tvalidation_0-error:0.009375\tvalidation_1-auc:0.811119\tvalidation_1-error:0.259362\n",
            "[105]\tvalidation_0-auc:0.999554\tvalidation_0-error:0.009028\tvalidation_1-auc:0.811766\tvalidation_1-error:0.262136\n",
            "[106]\tvalidation_0-auc:0.999558\tvalidation_0-error:0.009722\tvalidation_1-auc:0.812767\tvalidation_1-error:0.262136\n",
            "[107]\tvalidation_0-auc:0.999603\tvalidation_0-error:0.009722\tvalidation_1-auc:0.812104\tvalidation_1-error:0.26491\n",
            "[108]\tvalidation_0-auc:0.999641\tvalidation_0-error:0.009722\tvalidation_1-auc:0.81272\tvalidation_1-error:0.266297\n",
            "[109]\tvalidation_0-auc:0.999654\tvalidation_0-error:0.009028\tvalidation_1-auc:0.813313\tvalidation_1-error:0.263523\n",
            "[110]\tvalidation_0-auc:0.99968\tvalidation_0-error:0.009375\tvalidation_1-auc:0.812905\tvalidation_1-error:0.257975\n",
            "[111]\tvalidation_0-auc:0.999683\tvalidation_0-error:0.008333\tvalidation_1-auc:0.814245\tvalidation_1-error:0.259362\n",
            "[112]\tvalidation_0-auc:0.999701\tvalidation_0-error:0.007639\tvalidation_1-auc:0.814214\tvalidation_1-error:0.267684\n",
            "[113]\tvalidation_0-auc:0.999695\tvalidation_0-error:0.007639\tvalidation_1-auc:0.813129\tvalidation_1-error:0.263523\n",
            "[114]\tvalidation_0-auc:0.999707\tvalidation_0-error:0.007986\tvalidation_1-auc:0.814484\tvalidation_1-error:0.262136\n",
            "[115]\tvalidation_0-auc:0.999697\tvalidation_0-error:0.007639\tvalidation_1-auc:0.813629\tvalidation_1-error:0.262136\n",
            "[116]\tvalidation_0-auc:0.999701\tvalidation_0-error:0.006597\tvalidation_1-auc:0.81463\tvalidation_1-error:0.260749\n",
            "[117]\tvalidation_0-auc:0.99974\tvalidation_0-error:0.006944\tvalidation_1-auc:0.8151\tvalidation_1-error:0.260749\n",
            "[118]\tvalidation_0-auc:0.999747\tvalidation_0-error:0.00625\tvalidation_1-auc:0.814661\tvalidation_1-error:0.259362\n",
            "[119]\tvalidation_0-auc:0.999744\tvalidation_0-error:0.00625\tvalidation_1-auc:0.815038\tvalidation_1-error:0.257975\n",
            "[120]\tvalidation_0-auc:0.999758\tvalidation_0-error:0.007292\tvalidation_1-auc:0.817271\tvalidation_1-error:0.26491\n",
            "[121]\tvalidation_0-auc:0.999789\tvalidation_0-error:0.006944\tvalidation_1-auc:0.818765\tvalidation_1-error:0.260749\n",
            "[122]\tvalidation_0-auc:0.999811\tvalidation_0-error:0.00625\tvalidation_1-auc:0.818472\tvalidation_1-error:0.257975\n",
            "[123]\tvalidation_0-auc:0.999811\tvalidation_0-error:0.005208\tvalidation_1-auc:0.817233\tvalidation_1-error:0.263523\n",
            "[124]\tvalidation_0-auc:0.999812\tvalidation_0-error:0.005556\tvalidation_1-auc:0.817887\tvalidation_1-error:0.259362\n",
            "[125]\tvalidation_0-auc:0.999834\tvalidation_0-error:0.005556\tvalidation_1-auc:0.817595\tvalidation_1-error:0.26491\n",
            "[126]\tvalidation_0-auc:0.999848\tvalidation_0-error:0.005208\tvalidation_1-auc:0.818033\tvalidation_1-error:0.26491\n",
            "[127]\tvalidation_0-auc:0.999868\tvalidation_0-error:0.004861\tvalidation_1-auc:0.818442\tvalidation_1-error:0.263523\n",
            "[128]\tvalidation_0-auc:0.999872\tvalidation_0-error:0.005208\tvalidation_1-auc:0.81945\tvalidation_1-error:0.263523\n",
            "[129]\tvalidation_0-auc:0.99988\tvalidation_0-error:0.005208\tvalidation_1-auc:0.819235\tvalidation_1-error:0.256588\n",
            "[130]\tvalidation_0-auc:0.999898\tvalidation_0-error:0.004514\tvalidation_1-auc:0.819258\tvalidation_1-error:0.253814\n",
            "[131]\tvalidation_0-auc:0.999904\tvalidation_0-error:0.004167\tvalidation_1-auc:0.819827\tvalidation_1-error:0.260749\n",
            "[132]\tvalidation_0-auc:0.999921\tvalidation_0-error:0.003819\tvalidation_1-auc:0.819604\tvalidation_1-error:0.260749\n",
            "[133]\tvalidation_0-auc:0.99991\tvalidation_0-error:0.004861\tvalidation_1-auc:0.820012\tvalidation_1-error:0.263523\n",
            "[134]\tvalidation_0-auc:0.999925\tvalidation_0-error:0.003472\tvalidation_1-auc:0.82049\tvalidation_1-error:0.266297\n",
            "[135]\tvalidation_0-auc:0.999933\tvalidation_0-error:0.004167\tvalidation_1-auc:0.823\tvalidation_1-error:0.259362\n",
            "[136]\tvalidation_0-auc:0.99994\tvalidation_0-error:0.004167\tvalidation_1-auc:0.822469\tvalidation_1-error:0.260749\n",
            "[137]\tvalidation_0-auc:0.999952\tvalidation_0-error:0.003819\tvalidation_1-auc:0.821922\tvalidation_1-error:0.255201\n",
            "[138]\tvalidation_0-auc:0.999954\tvalidation_0-error:0.003819\tvalidation_1-auc:0.822484\tvalidation_1-error:0.252427\n",
            "[139]\tvalidation_0-auc:0.99996\tvalidation_0-error:0.003819\tvalidation_1-auc:0.823277\tvalidation_1-error:0.246879\n",
            "[140]\tvalidation_0-auc:0.99996\tvalidation_0-error:0.003125\tvalidation_1-auc:0.824301\tvalidation_1-error:0.249653\n",
            "[141]\tvalidation_0-auc:0.99996\tvalidation_0-error:0.003472\tvalidation_1-auc:0.82494\tvalidation_1-error:0.252427\n",
            "[142]\tvalidation_0-auc:0.999961\tvalidation_0-error:0.003472\tvalidation_1-auc:0.82561\tvalidation_1-error:0.253814\n",
            "[143]\tvalidation_0-auc:0.999962\tvalidation_0-error:0.003125\tvalidation_1-auc:0.825056\tvalidation_1-error:0.255201\n",
            "[144]\tvalidation_0-auc:0.999965\tvalidation_0-error:0.003125\tvalidation_1-auc:0.824863\tvalidation_1-error:0.253814\n",
            "[145]\tvalidation_0-auc:0.99997\tvalidation_0-error:0.003125\tvalidation_1-auc:0.825733\tvalidation_1-error:0.25104\n",
            "[146]\tvalidation_0-auc:0.999969\tvalidation_0-error:0.003125\tvalidation_1-auc:0.825934\tvalidation_1-error:0.25104\n",
            "[147]\tvalidation_0-auc:0.999974\tvalidation_0-error:0.003819\tvalidation_1-auc:0.827643\tvalidation_1-error:0.253814\n",
            "[148]\tvalidation_0-auc:0.99998\tvalidation_0-error:0.003125\tvalidation_1-auc:0.827196\tvalidation_1-error:0.253814\n",
            "[149]\tvalidation_0-auc:0.999976\tvalidation_0-error:0.002431\tvalidation_1-auc:0.827243\tvalidation_1-error:0.253814\n",
            "[150]\tvalidation_0-auc:0.999977\tvalidation_0-error:0.002778\tvalidation_1-auc:0.826919\tvalidation_1-error:0.253814\n",
            "[151]\tvalidation_0-auc:0.999982\tvalidation_0-error:0.002083\tvalidation_1-auc:0.826296\tvalidation_1-error:0.249653\n",
            "[152]\tvalidation_0-auc:0.999981\tvalidation_0-error:0.002431\tvalidation_1-auc:0.82655\tvalidation_1-error:0.244105\n",
            "[153]\tvalidation_0-auc:0.999985\tvalidation_0-error:0.001736\tvalidation_1-auc:0.827381\tvalidation_1-error:0.242718\n",
            "[154]\tvalidation_0-auc:0.999988\tvalidation_0-error:0.001736\tvalidation_1-auc:0.827836\tvalidation_1-error:0.25104\n",
            "[155]\tvalidation_0-auc:0.999988\tvalidation_0-error:0.002083\tvalidation_1-auc:0.827397\tvalidation_1-error:0.248266\n",
            "[156]\tvalidation_0-auc:0.99999\tvalidation_0-error:0.001736\tvalidation_1-auc:0.82628\tvalidation_1-error:0.253814\n",
            "[157]\tvalidation_0-auc:0.999989\tvalidation_0-error:0.001389\tvalidation_1-auc:0.826088\tvalidation_1-error:0.249653\n",
            "[158]\tvalidation_0-auc:0.999991\tvalidation_0-error:0.001389\tvalidation_1-auc:0.826511\tvalidation_1-error:0.252427\n",
            "[159]\tvalidation_0-auc:0.999991\tvalidation_0-error:0.001389\tvalidation_1-auc:0.827058\tvalidation_1-error:0.255201\n",
            "[160]\tvalidation_0-auc:0.999992\tvalidation_0-error:0.001736\tvalidation_1-auc:0.827243\tvalidation_1-error:0.252427\n",
            "[161]\tvalidation_0-auc:0.999994\tvalidation_0-error:0.001389\tvalidation_1-auc:0.826734\tvalidation_1-error:0.252427\n",
            "[162]\tvalidation_0-auc:0.999995\tvalidation_0-error:0.001736\tvalidation_1-auc:0.827004\tvalidation_1-error:0.25104\n",
            "[163]\tvalidation_0-auc:0.999996\tvalidation_0-error:0.001389\tvalidation_1-auc:0.826403\tvalidation_1-error:0.249653\n",
            "[164]\tvalidation_0-auc:0.999996\tvalidation_0-error:0.001042\tvalidation_1-auc:0.826904\tvalidation_1-error:0.246879\n",
            "[165]\tvalidation_0-auc:0.999996\tvalidation_0-error:0.001042\tvalidation_1-auc:0.828559\tvalidation_1-error:0.25104\n",
            "[166]\tvalidation_0-auc:0.999994\tvalidation_0-error:0.001042\tvalidation_1-auc:0.829676\tvalidation_1-error:0.253814\n",
            "[167]\tvalidation_0-auc:0.999994\tvalidation_0-error:0.001042\tvalidation_1-auc:0.829992\tvalidation_1-error:0.249653\n",
            "[168]\tvalidation_0-auc:0.999996\tvalidation_0-error:0.001042\tvalidation_1-auc:0.829576\tvalidation_1-error:0.245492\n",
            "[169]\tvalidation_0-auc:0.999997\tvalidation_0-error:0.001042\tvalidation_1-auc:0.830777\tvalidation_1-error:0.242718\n",
            "[170]\tvalidation_0-auc:0.999997\tvalidation_0-error:0.001042\tvalidation_1-auc:0.831501\tvalidation_1-error:0.246879\n",
            "[171]\tvalidation_0-auc:0.999996\tvalidation_0-error:0.001042\tvalidation_1-auc:0.831039\tvalidation_1-error:0.244105\n",
            "[172]\tvalidation_0-auc:0.999996\tvalidation_0-error:0.001042\tvalidation_1-auc:0.831354\tvalidation_1-error:0.241331\n",
            "[173]\tvalidation_0-auc:0.999998\tvalidation_0-error:0.001042\tvalidation_1-auc:0.830669\tvalidation_1-error:0.241331\n",
            "[174]\tvalidation_0-auc:0.999999\tvalidation_0-error:0.001042\tvalidation_1-auc:0.83137\tvalidation_1-error:0.241331\n",
            "[175]\tvalidation_0-auc:0.999999\tvalidation_0-error:0.000694\tvalidation_1-auc:0.831478\tvalidation_1-error:0.244105\n",
            "[176]\tvalidation_0-auc:0.999999\tvalidation_0-error:0.000694\tvalidation_1-auc:0.831293\tvalidation_1-error:0.245492\n",
            "[177]\tvalidation_0-auc:0.999999\tvalidation_0-error:0.000694\tvalidation_1-auc:0.83244\tvalidation_1-error:0.246879\n",
            "[178]\tvalidation_0-auc:1\tvalidation_0-error:0.000694\tvalidation_1-auc:0.832471\tvalidation_1-error:0.239945\n",
            "[179]\tvalidation_0-auc:1\tvalidation_0-error:0.000694\tvalidation_1-auc:0.832078\tvalidation_1-error:0.239945\n",
            "[180]\tvalidation_0-auc:1\tvalidation_0-error:0.000694\tvalidation_1-auc:0.832417\tvalidation_1-error:0.241331\n",
            "[181]\tvalidation_0-auc:1\tvalidation_0-error:0.001042\tvalidation_1-auc:0.832617\tvalidation_1-error:0.241331\n",
            "[182]\tvalidation_0-auc:1\tvalidation_0-error:0.000694\tvalidation_1-auc:0.834812\tvalidation_1-error:0.242718\n",
            "[183]\tvalidation_0-auc:1\tvalidation_0-error:0.001042\tvalidation_1-auc:0.836275\tvalidation_1-error:0.238558\n",
            "[184]\tvalidation_0-auc:1\tvalidation_0-error:0.001042\tvalidation_1-auc:0.835851\tvalidation_1-error:0.238558\n",
            "[185]\tvalidation_0-auc:1\tvalidation_0-error:0\tvalidation_1-auc:0.836583\tvalidation_1-error:0.231623\n",
            "[186]\tvalidation_0-auc:1\tvalidation_0-error:0.000347\tvalidation_1-auc:0.835666\tvalidation_1-error:0.238558\n",
            "[187]\tvalidation_0-auc:1\tvalidation_0-error:0.000347\tvalidation_1-auc:0.836244\tvalidation_1-error:0.23301\n",
            "[188]\tvalidation_0-auc:1\tvalidation_0-error:0.000347\tvalidation_1-auc:0.837022\tvalidation_1-error:0.244105\n",
            "[189]\tvalidation_0-auc:1\tvalidation_0-error:0.000347\tvalidation_1-auc:0.836775\tvalidation_1-error:0.246879\n",
            "[190]\tvalidation_0-auc:1\tvalidation_0-error:0.000347\tvalidation_1-auc:0.836621\tvalidation_1-error:0.244105\n",
            "[191]\tvalidation_0-auc:1\tvalidation_0-error:0.000347\tvalidation_1-auc:0.836729\tvalidation_1-error:0.246879\n",
            "[192]\tvalidation_0-auc:1\tvalidation_0-error:0.000347\tvalidation_1-auc:0.836991\tvalidation_1-error:0.244105\n",
            "[193]\tvalidation_0-auc:1\tvalidation_0-error:0.000347\tvalidation_1-auc:0.836652\tvalidation_1-error:0.242718\n",
            "[194]\tvalidation_0-auc:1\tvalidation_0-error:0.000694\tvalidation_1-auc:0.837345\tvalidation_1-error:0.238558\n",
            "[195]\tvalidation_0-auc:1\tvalidation_0-error:0.000694\tvalidation_1-auc:0.836367\tvalidation_1-error:0.238558\n",
            "[196]\tvalidation_0-auc:1\tvalidation_0-error:0.000694\tvalidation_1-auc:0.836205\tvalidation_1-error:0.235784\n",
            "[197]\tvalidation_0-auc:1\tvalidation_0-error:0.000694\tvalidation_1-auc:0.837129\tvalidation_1-error:0.23301\n",
            "[198]\tvalidation_0-auc:1\tvalidation_0-error:0.000694\tvalidation_1-auc:0.837507\tvalidation_1-error:0.237171\n",
            "[199]\tvalidation_0-auc:1\tvalidation_0-error:0.000694\tvalidation_1-auc:0.837545\tvalidation_1-error:0.237171\n",
            "[200]\tvalidation_0-auc:1\tvalidation_0-error:0.000694\tvalidation_1-auc:0.837453\tvalidation_1-error:0.239945\n",
            "[201]\tvalidation_0-auc:1\tvalidation_0-error:0.000694\tvalidation_1-auc:0.837183\tvalidation_1-error:0.242718\n",
            "[202]\tvalidation_0-auc:1\tvalidation_0-error:0.000694\tvalidation_1-auc:0.837191\tvalidation_1-error:0.246879\n",
            "[203]\tvalidation_0-auc:1\tvalidation_0-error:0.000694\tvalidation_1-auc:0.837307\tvalidation_1-error:0.248266\n",
            "[204]\tvalidation_0-auc:1\tvalidation_0-error:0.000347\tvalidation_1-auc:0.837792\tvalidation_1-error:0.249653\n",
            "[205]\tvalidation_0-auc:1\tvalidation_0-error:0.000694\tvalidation_1-auc:0.837969\tvalidation_1-error:0.248266\n",
            "[206]\tvalidation_0-auc:1\tvalidation_0-error:0.000347\tvalidation_1-auc:0.837961\tvalidation_1-error:0.248266\n",
            "[207]\tvalidation_0-auc:1\tvalidation_0-error:0.000694\tvalidation_1-auc:0.838924\tvalidation_1-error:0.244105\n",
            "[208]\tvalidation_0-auc:1\tvalidation_0-error:0.000347\tvalidation_1-auc:0.839162\tvalidation_1-error:0.242718\n",
            "[209]\tvalidation_0-auc:1\tvalidation_0-error:0.000347\tvalidation_1-auc:0.838924\tvalidation_1-error:0.239945\n",
            "[210]\tvalidation_0-auc:1\tvalidation_0-error:0.000347\tvalidation_1-auc:0.838269\tvalidation_1-error:0.245492\n",
            "[211]\tvalidation_0-auc:1\tvalidation_0-error:0.000347\tvalidation_1-auc:0.837299\tvalidation_1-error:0.238558\n",
            "[212]\tvalidation_0-auc:1\tvalidation_0-error:0.000347\tvalidation_1-auc:0.836991\tvalidation_1-error:0.241331\n",
            "[213]\tvalidation_0-auc:1\tvalidation_0-error:0.000347\tvalidation_1-auc:0.837522\tvalidation_1-error:0.237171\n",
            "[214]\tvalidation_0-auc:1\tvalidation_0-error:0.000347\tvalidation_1-auc:0.838454\tvalidation_1-error:0.237171\n",
            "[215]\tvalidation_0-auc:1\tvalidation_0-error:0.000347\tvalidation_1-auc:0.838284\tvalidation_1-error:0.238558\n",
            "[216]\tvalidation_0-auc:1\tvalidation_0-error:0.000347\tvalidation_1-auc:0.838392\tvalidation_1-error:0.234397\n",
            "[217]\tvalidation_0-auc:1\tvalidation_0-error:0.000347\tvalidation_1-auc:0.839178\tvalidation_1-error:0.237171\n",
            "[218]\tvalidation_0-auc:1\tvalidation_0-error:0.000347\tvalidation_1-auc:0.839909\tvalidation_1-error:0.234397\n",
            "[219]\tvalidation_0-auc:1\tvalidation_0-error:0\tvalidation_1-auc:0.839617\tvalidation_1-error:0.245492\n",
            "[220]\tvalidation_0-auc:1\tvalidation_0-error:0\tvalidation_1-auc:0.838777\tvalidation_1-error:0.245492\n",
            "[221]\tvalidation_0-auc:1\tvalidation_0-error:0\tvalidation_1-auc:0.83964\tvalidation_1-error:0.239945\n",
            "[222]\tvalidation_0-auc:1\tvalidation_0-error:0\tvalidation_1-auc:0.839724\tvalidation_1-error:0.239945\n",
            "[223]\tvalidation_0-auc:1\tvalidation_0-error:0\tvalidation_1-auc:0.839817\tvalidation_1-error:0.238558\n",
            "[224]\tvalidation_0-auc:1\tvalidation_0-error:0\tvalidation_1-auc:0.839147\tvalidation_1-error:0.234397\n",
            "[225]\tvalidation_0-auc:1\tvalidation_0-error:0\tvalidation_1-auc:0.839347\tvalidation_1-error:0.228849\n",
            "[226]\tvalidation_0-auc:1\tvalidation_0-error:0\tvalidation_1-auc:0.839601\tvalidation_1-error:0.231623\n",
            "[227]\tvalidation_0-auc:1\tvalidation_0-error:0\tvalidation_1-auc:0.840371\tvalidation_1-error:0.228849\n",
            "[228]\tvalidation_0-auc:1\tvalidation_0-error:0\tvalidation_1-auc:0.839855\tvalidation_1-error:0.227462\n",
            "[229]\tvalidation_0-auc:1\tvalidation_0-error:0\tvalidation_1-auc:0.84044\tvalidation_1-error:0.227462\n",
            "[230]\tvalidation_0-auc:1\tvalidation_0-error:0\tvalidation_1-auc:0.841634\tvalidation_1-error:0.230236\n",
            "[231]\tvalidation_0-auc:1\tvalidation_0-error:0\tvalidation_1-auc:0.841534\tvalidation_1-error:0.23301\n",
            "[232]\tvalidation_0-auc:1\tvalidation_0-error:0\tvalidation_1-auc:0.842227\tvalidation_1-error:0.228849\n",
            "[233]\tvalidation_0-auc:1\tvalidation_0-error:0\tvalidation_1-auc:0.841757\tvalidation_1-error:0.228849\n",
            "[234]\tvalidation_0-auc:1\tvalidation_0-error:0\tvalidation_1-auc:0.840748\tvalidation_1-error:0.23301\n",
            "[235]\tvalidation_0-auc:1\tvalidation_0-error:0\tvalidation_1-auc:0.840433\tvalidation_1-error:0.23301\n",
            "[236]\tvalidation_0-auc:1\tvalidation_0-error:0\tvalidation_1-auc:0.840333\tvalidation_1-error:0.231623\n",
            "[237]\tvalidation_0-auc:1\tvalidation_0-error:0\tvalidation_1-auc:0.839824\tvalidation_1-error:0.23301\n",
            "[238]\tvalidation_0-auc:1\tvalidation_0-error:0\tvalidation_1-auc:0.840587\tvalidation_1-error:0.231623\n",
            "[239]\tvalidation_0-auc:1\tvalidation_0-error:0\tvalidation_1-auc:0.840494\tvalidation_1-error:0.231623\n",
            "[240]\tvalidation_0-auc:1\tvalidation_0-error:0\tvalidation_1-auc:0.840725\tvalidation_1-error:0.227462\n",
            "[241]\tvalidation_0-auc:1\tvalidation_0-error:0\tvalidation_1-auc:0.840471\tvalidation_1-error:0.230236\n",
            "[242]\tvalidation_0-auc:1\tvalidation_0-error:0\tvalidation_1-auc:0.841003\tvalidation_1-error:0.23301\n",
            "[243]\tvalidation_0-auc:1\tvalidation_0-error:0\tvalidation_1-auc:0.840217\tvalidation_1-error:0.23301\n",
            "[244]\tvalidation_0-auc:1\tvalidation_0-error:0\tvalidation_1-auc:0.840017\tvalidation_1-error:0.23301\n",
            "[245]\tvalidation_0-auc:1\tvalidation_0-error:0\tvalidation_1-auc:0.83994\tvalidation_1-error:0.231623\n",
            "[246]\tvalidation_0-auc:1\tvalidation_0-error:0\tvalidation_1-auc:0.840725\tvalidation_1-error:0.234397\n",
            "[247]\tvalidation_0-auc:1\tvalidation_0-error:0\tvalidation_1-auc:0.841372\tvalidation_1-error:0.235784\n",
            "[248]\tvalidation_0-auc:1\tvalidation_0-error:0\tvalidation_1-auc:0.842188\tvalidation_1-error:0.235784\n",
            "[249]\tvalidation_0-auc:1\tvalidation_0-error:0\tvalidation_1-auc:0.843151\tvalidation_1-error:0.235784\n",
            "[250]\tvalidation_0-auc:1\tvalidation_0-error:0\tvalidation_1-auc:0.842535\tvalidation_1-error:0.23301\n",
            "[251]\tvalidation_0-auc:1\tvalidation_0-error:0\tvalidation_1-auc:0.842481\tvalidation_1-error:0.231623\n",
            "[252]\tvalidation_0-auc:1\tvalidation_0-error:0\tvalidation_1-auc:0.84302\tvalidation_1-error:0.235784\n",
            "[253]\tvalidation_0-auc:1\tvalidation_0-error:0\tvalidation_1-auc:0.843482\tvalidation_1-error:0.23301\n",
            "[254]\tvalidation_0-auc:1\tvalidation_0-error:0\tvalidation_1-auc:0.843751\tvalidation_1-error:0.234397\n",
            "[255]\tvalidation_0-auc:1\tvalidation_0-error:0\tvalidation_1-auc:0.843621\tvalidation_1-error:0.237171\n",
            "[256]\tvalidation_0-auc:1\tvalidation_0-error:0\tvalidation_1-auc:0.842943\tvalidation_1-error:0.235784\n",
            "[257]\tvalidation_0-auc:1\tvalidation_0-error:0\tvalidation_1-auc:0.843544\tvalidation_1-error:0.239945\n",
            "[258]\tvalidation_0-auc:1\tvalidation_0-error:0\tvalidation_1-auc:0.843282\tvalidation_1-error:0.238558\n",
            "[259]\tvalidation_0-auc:1\tvalidation_0-error:0\tvalidation_1-auc:0.843405\tvalidation_1-error:0.242718\n",
            "[260]\tvalidation_0-auc:1\tvalidation_0-error:0\tvalidation_1-auc:0.843297\tvalidation_1-error:0.244105\n",
            "[261]\tvalidation_0-auc:1\tvalidation_0-error:0\tvalidation_1-auc:0.842743\tvalidation_1-error:0.244105\n",
            "[262]\tvalidation_0-auc:1\tvalidation_0-error:0\tvalidation_1-auc:0.842627\tvalidation_1-error:0.245492\n",
            "[263]\tvalidation_0-auc:1\tvalidation_0-error:0\tvalidation_1-auc:0.843151\tvalidation_1-error:0.241331\n",
            "[264]\tvalidation_0-auc:1\tvalidation_0-error:0\tvalidation_1-auc:0.843482\tvalidation_1-error:0.242718\n",
            "[265]\tvalidation_0-auc:1\tvalidation_0-error:0\tvalidation_1-auc:0.843505\tvalidation_1-error:0.244105\n",
            "[266]\tvalidation_0-auc:1\tvalidation_0-error:0\tvalidation_1-auc:0.843659\tvalidation_1-error:0.244105\n",
            "[267]\tvalidation_0-auc:1\tvalidation_0-error:0\tvalidation_1-auc:0.843998\tvalidation_1-error:0.238558\n",
            "[268]\tvalidation_0-auc:1\tvalidation_0-error:0\tvalidation_1-auc:0.844314\tvalidation_1-error:0.239945\n",
            "[269]\tvalidation_0-auc:1\tvalidation_0-error:0\tvalidation_1-auc:0.84416\tvalidation_1-error:0.234397\n",
            "[270]\tvalidation_0-auc:1\tvalidation_0-error:0\tvalidation_1-auc:0.844545\tvalidation_1-error:0.237171\n",
            "[271]\tvalidation_0-auc:1\tvalidation_0-error:0\tvalidation_1-auc:0.844267\tvalidation_1-error:0.237171\n",
            "[272]\tvalidation_0-auc:1\tvalidation_0-error:0\tvalidation_1-auc:0.844429\tvalidation_1-error:0.239945\n",
            "[273]\tvalidation_0-auc:1\tvalidation_0-error:0\tvalidation_1-auc:0.844652\tvalidation_1-error:0.238558\n",
            "[274]\tvalidation_0-auc:1\tvalidation_0-error:0\tvalidation_1-auc:0.84409\tvalidation_1-error:0.241331\n",
            "[275]\tvalidation_0-auc:1\tvalidation_0-error:0\tvalidation_1-auc:0.844922\tvalidation_1-error:0.237171\n",
            "[276]\tvalidation_0-auc:1\tvalidation_0-error:0\tvalidation_1-auc:0.844776\tvalidation_1-error:0.235784\n",
            "[277]\tvalidation_0-auc:1\tvalidation_0-error:0\tvalidation_1-auc:0.845599\tvalidation_1-error:0.238558\n",
            "[278]\tvalidation_0-auc:1\tvalidation_0-error:0\tvalidation_1-auc:0.846239\tvalidation_1-error:0.241331\n",
            "[279]\tvalidation_0-auc:1\tvalidation_0-error:0\tvalidation_1-auc:0.846123\tvalidation_1-error:0.239945\n",
            "[280]\tvalidation_0-auc:1\tvalidation_0-error:0\tvalidation_1-auc:0.847055\tvalidation_1-error:0.242718\n",
            "[281]\tvalidation_0-auc:1\tvalidation_0-error:0\tvalidation_1-auc:0.846585\tvalidation_1-error:0.242718\n",
            "[282]\tvalidation_0-auc:1\tvalidation_0-error:0\tvalidation_1-auc:0.847124\tvalidation_1-error:0.239945\n",
            "[283]\tvalidation_0-auc:1\tvalidation_0-error:0\tvalidation_1-auc:0.847132\tvalidation_1-error:0.244105\n",
            "[284]\tvalidation_0-auc:1\tvalidation_0-error:0\tvalidation_1-auc:0.84647\tvalidation_1-error:0.238558\n",
            "[285]\tvalidation_0-auc:1\tvalidation_0-error:0\tvalidation_1-auc:0.846061\tvalidation_1-error:0.238558\n",
            "[286]\tvalidation_0-auc:1\tvalidation_0-error:0\tvalidation_1-auc:0.846362\tvalidation_1-error:0.237171\n",
            "[287]\tvalidation_0-auc:1\tvalidation_0-error:0\tvalidation_1-auc:0.845984\tvalidation_1-error:0.239945\n",
            "[288]\tvalidation_0-auc:1\tvalidation_0-error:0\tvalidation_1-auc:0.845692\tvalidation_1-error:0.241331\n",
            "[289]\tvalidation_0-auc:1\tvalidation_0-error:0\tvalidation_1-auc:0.845877\tvalidation_1-error:0.231623\n",
            "[290]\tvalidation_0-auc:1\tvalidation_0-error:0\tvalidation_1-auc:0.845653\tvalidation_1-error:0.237171\n",
            "[291]\tvalidation_0-auc:1\tvalidation_0-error:0\tvalidation_1-auc:0.845861\tvalidation_1-error:0.231623\n",
            "[292]\tvalidation_0-auc:1\tvalidation_0-error:0\tvalidation_1-auc:0.845384\tvalidation_1-error:0.230236\n",
            "[293]\tvalidation_0-auc:1\tvalidation_0-error:0\tvalidation_1-auc:0.845777\tvalidation_1-error:0.230236\n",
            "[294]\tvalidation_0-auc:1\tvalidation_0-error:0\tvalidation_1-auc:0.845707\tvalidation_1-error:0.23301\n",
            "[295]\tvalidation_0-auc:1\tvalidation_0-error:0\tvalidation_1-auc:0.846061\tvalidation_1-error:0.230236\n",
            "[296]\tvalidation_0-auc:1\tvalidation_0-error:0\tvalidation_1-auc:0.846061\tvalidation_1-error:0.237171\n",
            "[297]\tvalidation_0-auc:1\tvalidation_0-error:0\tvalidation_1-auc:0.846108\tvalidation_1-error:0.239945\n",
            "[298]\tvalidation_0-auc:1\tvalidation_0-error:0\tvalidation_1-auc:0.846631\tvalidation_1-error:0.238558\n",
            "[299]\tvalidation_0-auc:1\tvalidation_0-error:0\tvalidation_1-auc:0.84727\tvalidation_1-error:0.235784\n",
            "[300]\tvalidation_0-auc:1\tvalidation_0-error:0\tvalidation_1-auc:0.846947\tvalidation_1-error:0.237171\n",
            "[301]\tvalidation_0-auc:1\tvalidation_0-error:0\tvalidation_1-auc:0.846585\tvalidation_1-error:0.239945\n",
            "[302]\tvalidation_0-auc:1\tvalidation_0-error:0\tvalidation_1-auc:0.846254\tvalidation_1-error:0.235784\n",
            "[303]\tvalidation_0-auc:1\tvalidation_0-error:0\tvalidation_1-auc:0.846061\tvalidation_1-error:0.238558\n",
            "[304]\tvalidation_0-auc:1\tvalidation_0-error:0\tvalidation_1-auc:0.846639\tvalidation_1-error:0.234397\n",
            "[305]\tvalidation_0-auc:1\tvalidation_0-error:0\tvalidation_1-auc:0.846431\tvalidation_1-error:0.237171\n",
            "[306]\tvalidation_0-auc:1\tvalidation_0-error:0\tvalidation_1-auc:0.846631\tvalidation_1-error:0.237171\n",
            "[307]\tvalidation_0-auc:1\tvalidation_0-error:0\tvalidation_1-auc:0.845969\tvalidation_1-error:0.235784\n",
            "[308]\tvalidation_0-auc:1\tvalidation_0-error:0\tvalidation_1-auc:0.8462\tvalidation_1-error:0.238558\n",
            "[309]\tvalidation_0-auc:1\tvalidation_0-error:0\tvalidation_1-auc:0.846346\tvalidation_1-error:0.237171\n",
            "[310]\tvalidation_0-auc:1\tvalidation_0-error:0\tvalidation_1-auc:0.846115\tvalidation_1-error:0.234397\n",
            "[311]\tvalidation_0-auc:1\tvalidation_0-error:0\tvalidation_1-auc:0.84657\tvalidation_1-error:0.237171\n",
            "[312]\tvalidation_0-auc:1\tvalidation_0-error:0\tvalidation_1-auc:0.846131\tvalidation_1-error:0.237171\n",
            "[313]\tvalidation_0-auc:1\tvalidation_0-error:0\tvalidation_1-auc:0.845834\tvalidation_1-error:0.239945\n",
            "[314]\tvalidation_0-auc:1\tvalidation_0-error:0\tvalidation_1-auc:0.845723\tvalidation_1-error:0.239945\n",
            "[315]\tvalidation_0-auc:1\tvalidation_0-error:0\tvalidation_1-auc:0.846\tvalidation_1-error:0.238558\n",
            "[316]\tvalidation_0-auc:1\tvalidation_0-error:0\tvalidation_1-auc:0.846354\tvalidation_1-error:0.237171\n",
            "[317]\tvalidation_0-auc:1\tvalidation_0-error:0\tvalidation_1-auc:0.845915\tvalidation_1-error:0.241331\n",
            "[318]\tvalidation_0-auc:1\tvalidation_0-error:0\tvalidation_1-auc:0.845823\tvalidation_1-error:0.241331\n",
            "[319]\tvalidation_0-auc:1\tvalidation_0-error:0\tvalidation_1-auc:0.844883\tvalidation_1-error:0.239945\n",
            "[320]\tvalidation_0-auc:1\tvalidation_0-error:0\tvalidation_1-auc:0.845569\tvalidation_1-error:0.239945\n",
            "[321]\tvalidation_0-auc:1\tvalidation_0-error:0\tvalidation_1-auc:0.846023\tvalidation_1-error:0.241331\n",
            "[322]\tvalidation_0-auc:1\tvalidation_0-error:0\tvalidation_1-auc:0.845546\tvalidation_1-error:0.241331\n",
            "[323]\tvalidation_0-auc:1\tvalidation_0-error:0\tvalidation_1-auc:0.845653\tvalidation_1-error:0.234397\n",
            "[324]\tvalidation_0-auc:1\tvalidation_0-error:0\tvalidation_1-auc:0.845707\tvalidation_1-error:0.237171\n",
            "[325]\tvalidation_0-auc:1\tvalidation_0-error:0\tvalidation_1-auc:0.845299\tvalidation_1-error:0.237171\n",
            "[326]\tvalidation_0-auc:1\tvalidation_0-error:0\tvalidation_1-auc:0.845353\tvalidation_1-error:0.238558\n",
            "[327]\tvalidation_0-auc:1\tvalidation_0-error:0\tvalidation_1-auc:0.845846\tvalidation_1-error:0.235784\n",
            "[328]\tvalidation_0-auc:1\tvalidation_0-error:0\tvalidation_1-auc:0.845961\tvalidation_1-error:0.238558\n",
            "[329]\tvalidation_0-auc:1\tvalidation_0-error:0\tvalidation_1-auc:0.846254\tvalidation_1-error:0.237171\n",
            "[330]\tvalidation_0-auc:1\tvalidation_0-error:0\tvalidation_1-auc:0.846677\tvalidation_1-error:0.234397\n",
            "[331]\tvalidation_0-auc:1\tvalidation_0-error:0\tvalidation_1-auc:0.846077\tvalidation_1-error:0.237171\n",
            "[332]\tvalidation_0-auc:1\tvalidation_0-error:0\tvalidation_1-auc:0.846031\tvalidation_1-error:0.234397\n",
            "[333]\tvalidation_0-auc:1\tvalidation_0-error:0\tvalidation_1-auc:0.846215\tvalidation_1-error:0.237171\n",
            "[334]\tvalidation_0-auc:1\tvalidation_0-error:0\tvalidation_1-auc:0.846446\tvalidation_1-error:0.235784\n",
            "[335]\tvalidation_0-auc:1\tvalidation_0-error:0\tvalidation_1-auc:0.846901\tvalidation_1-error:0.23301\n",
            "[336]\tvalidation_0-auc:1\tvalidation_0-error:0\tvalidation_1-auc:0.846369\tvalidation_1-error:0.235784\n",
            "[337]\tvalidation_0-auc:1\tvalidation_0-error:0\tvalidation_1-auc:0.846439\tvalidation_1-error:0.235784\n",
            "[338]\tvalidation_0-auc:1\tvalidation_0-error:0\tvalidation_1-auc:0.846285\tvalidation_1-error:0.235784\n",
            "[339]\tvalidation_0-auc:1\tvalidation_0-error:0\tvalidation_1-auc:0.846701\tvalidation_1-error:0.237171\n",
            "[340]\tvalidation_0-auc:1\tvalidation_0-error:0\tvalidation_1-auc:0.846916\tvalidation_1-error:0.239945\n",
            "[341]\tvalidation_0-auc:1\tvalidation_0-error:0\tvalidation_1-auc:0.846893\tvalidation_1-error:0.237171\n",
            "[342]\tvalidation_0-auc:1\tvalidation_0-error:0\tvalidation_1-auc:0.847101\tvalidation_1-error:0.242718\n",
            "[343]\tvalidation_0-auc:1\tvalidation_0-error:0\tvalidation_1-auc:0.846739\tvalidation_1-error:0.239945\n",
            "[344]\tvalidation_0-auc:1\tvalidation_0-error:0\tvalidation_1-auc:0.846339\tvalidation_1-error:0.237171\n",
            "[345]\tvalidation_0-auc:1\tvalidation_0-error:0\tvalidation_1-auc:0.846054\tvalidation_1-error:0.237171\n",
            "[346]\tvalidation_0-auc:1\tvalidation_0-error:0\tvalidation_1-auc:0.845854\tvalidation_1-error:0.241331\n",
            "[347]\tvalidation_0-auc:1\tvalidation_0-error:0\tvalidation_1-auc:0.845615\tvalidation_1-error:0.242718\n",
            "[348]\tvalidation_0-auc:1\tvalidation_0-error:0\tvalidation_1-auc:0.845515\tvalidation_1-error:0.238558\n",
            "[349]\tvalidation_0-auc:1\tvalidation_0-error:0\tvalidation_1-auc:0.845553\tvalidation_1-error:0.241331\n",
            "[350]\tvalidation_0-auc:1\tvalidation_0-error:0\tvalidation_1-auc:0.845769\tvalidation_1-error:0.239945\n",
            "[351]\tvalidation_0-auc:1\tvalidation_0-error:0\tvalidation_1-auc:0.845692\tvalidation_1-error:0.235784\n",
            "[352]\tvalidation_0-auc:1\tvalidation_0-error:0\tvalidation_1-auc:0.846354\tvalidation_1-error:0.238558\n"
          ]
        },
        {
          "ename": "KeyboardInterrupt",
          "evalue": "ignored",
          "output_type": "error",
          "traceback": [
            "\u001b[0;31m---------------------------------------------------------------------------\u001b[0m",
            "\u001b[0;31mKeyboardInterrupt\u001b[0m                         Traceback (most recent call last)",
            "\u001b[0;32m<ipython-input-38-1486e1eb3b71>\u001b[0m in \u001b[0;36m<module>\u001b[0;34m()\u001b[0m\n\u001b[1;32m     28\u001b[0m     \u001b[0meval_metric\u001b[0m\u001b[0;34m=\u001b[0m\u001b[0;34m[\u001b[0m\u001b[0;34m\"auc\"\u001b[0m\u001b[0;34m,\u001b[0m\u001b[0;34m\"error\"\u001b[0m\u001b[0;34m]\u001b[0m\u001b[0;34m,\u001b[0m\u001b[0;34m\u001b[0m\u001b[0;34m\u001b[0m\u001b[0m\n\u001b[1;32m     29\u001b[0m     \u001b[0meval_set\u001b[0m\u001b[0;34m=\u001b[0m\u001b[0;34m[\u001b[0m\u001b[0;34m(\u001b[0m\u001b[0mx_train\u001b[0m\u001b[0;34m,\u001b[0m \u001b[0my_train\u001b[0m\u001b[0;34m)\u001b[0m\u001b[0;34m,\u001b[0m \u001b[0;34m(\u001b[0m\u001b[0mx_valid\u001b[0m\u001b[0;34m,\u001b[0m \u001b[0my_valid\u001b[0m\u001b[0;34m)\u001b[0m\u001b[0;34m]\u001b[0m\u001b[0;34m,\u001b[0m\u001b[0;34m\u001b[0m\u001b[0;34m\u001b[0m\u001b[0m\n\u001b[0;32m---> 30\u001b[0;31m     verbose=True)\n\u001b[0m\u001b[1;32m     31\u001b[0m \u001b[0;34m\u001b[0m\u001b[0m\n\u001b[1;32m     32\u001b[0m \u001b[0mprint\u001b[0m\u001b[0;34m(\u001b[0m\u001b[0;34m)\u001b[0m\u001b[0;34m\u001b[0m\u001b[0;34m\u001b[0m\u001b[0m\n",
            "\u001b[0;32m/usr/local/lib/python3.7/dist-packages/xgboost/sklearn.py\u001b[0m in \u001b[0;36mfit\u001b[0;34m(self, X, y, sample_weight, eval_set, eval_metric, early_stopping_rounds, verbose, xgb_model, sample_weight_eval_set, callbacks)\u001b[0m\n\u001b[1;32m    730\u001b[0m                               \u001b[0mevals_result\u001b[0m\u001b[0;34m=\u001b[0m\u001b[0mevals_result\u001b[0m\u001b[0;34m,\u001b[0m \u001b[0mobj\u001b[0m\u001b[0;34m=\u001b[0m\u001b[0mobj\u001b[0m\u001b[0;34m,\u001b[0m \u001b[0mfeval\u001b[0m\u001b[0;34m=\u001b[0m\u001b[0mfeval\u001b[0m\u001b[0;34m,\u001b[0m\u001b[0;34m\u001b[0m\u001b[0;34m\u001b[0m\u001b[0m\n\u001b[1;32m    731\u001b[0m                               \u001b[0mverbose_eval\u001b[0m\u001b[0;34m=\u001b[0m\u001b[0mverbose\u001b[0m\u001b[0;34m,\u001b[0m \u001b[0mxgb_model\u001b[0m\u001b[0;34m=\u001b[0m\u001b[0mxgb_model\u001b[0m\u001b[0;34m,\u001b[0m\u001b[0;34m\u001b[0m\u001b[0;34m\u001b[0m\u001b[0m\n\u001b[0;32m--> 732\u001b[0;31m                               callbacks=callbacks)\n\u001b[0m\u001b[1;32m    733\u001b[0m \u001b[0;34m\u001b[0m\u001b[0m\n\u001b[1;32m    734\u001b[0m         \u001b[0mself\u001b[0m\u001b[0;34m.\u001b[0m\u001b[0mobjective\u001b[0m \u001b[0;34m=\u001b[0m \u001b[0mxgb_options\u001b[0m\u001b[0;34m[\u001b[0m\u001b[0;34m\"objective\"\u001b[0m\u001b[0;34m]\u001b[0m\u001b[0;34m\u001b[0m\u001b[0;34m\u001b[0m\u001b[0m\n",
            "\u001b[0;32m/usr/local/lib/python3.7/dist-packages/xgboost/training.py\u001b[0m in \u001b[0;36mtrain\u001b[0;34m(params, dtrain, num_boost_round, evals, obj, feval, maximize, early_stopping_rounds, evals_result, verbose_eval, xgb_model, callbacks, learning_rates)\u001b[0m\n\u001b[1;32m    214\u001b[0m                            \u001b[0mevals\u001b[0m\u001b[0;34m=\u001b[0m\u001b[0mevals\u001b[0m\u001b[0;34m,\u001b[0m\u001b[0;34m\u001b[0m\u001b[0;34m\u001b[0m\u001b[0m\n\u001b[1;32m    215\u001b[0m                            \u001b[0mobj\u001b[0m\u001b[0;34m=\u001b[0m\u001b[0mobj\u001b[0m\u001b[0;34m,\u001b[0m \u001b[0mfeval\u001b[0m\u001b[0;34m=\u001b[0m\u001b[0mfeval\u001b[0m\u001b[0;34m,\u001b[0m\u001b[0;34m\u001b[0m\u001b[0;34m\u001b[0m\u001b[0m\n\u001b[0;32m--> 216\u001b[0;31m                            xgb_model=xgb_model, callbacks=callbacks)\n\u001b[0m\u001b[1;32m    217\u001b[0m \u001b[0;34m\u001b[0m\u001b[0m\n\u001b[1;32m    218\u001b[0m \u001b[0;34m\u001b[0m\u001b[0m\n",
            "\u001b[0;32m/usr/local/lib/python3.7/dist-packages/xgboost/training.py\u001b[0m in \u001b[0;36m_train_internal\u001b[0;34m(params, dtrain, num_boost_round, evals, obj, feval, xgb_model, callbacks)\u001b[0m\n\u001b[1;32m     72\u001b[0m         \u001b[0;31m# Skip the first update if it is a recovery step.\u001b[0m\u001b[0;34m\u001b[0m\u001b[0;34m\u001b[0m\u001b[0;34m\u001b[0m\u001b[0m\n\u001b[1;32m     73\u001b[0m         \u001b[0;32mif\u001b[0m \u001b[0mversion\u001b[0m \u001b[0;34m%\u001b[0m \u001b[0;36m2\u001b[0m \u001b[0;34m==\u001b[0m \u001b[0;36m0\u001b[0m\u001b[0;34m:\u001b[0m\u001b[0;34m\u001b[0m\u001b[0;34m\u001b[0m\u001b[0m\n\u001b[0;32m---> 74\u001b[0;31m             \u001b[0mbst\u001b[0m\u001b[0;34m.\u001b[0m\u001b[0mupdate\u001b[0m\u001b[0;34m(\u001b[0m\u001b[0mdtrain\u001b[0m\u001b[0;34m,\u001b[0m \u001b[0mi\u001b[0m\u001b[0;34m,\u001b[0m \u001b[0mobj\u001b[0m\u001b[0;34m)\u001b[0m\u001b[0;34m\u001b[0m\u001b[0;34m\u001b[0m\u001b[0m\n\u001b[0m\u001b[1;32m     75\u001b[0m             \u001b[0mbst\u001b[0m\u001b[0;34m.\u001b[0m\u001b[0msave_rabit_checkpoint\u001b[0m\u001b[0;34m(\u001b[0m\u001b[0;34m)\u001b[0m\u001b[0;34m\u001b[0m\u001b[0;34m\u001b[0m\u001b[0m\n\u001b[1;32m     76\u001b[0m             \u001b[0mversion\u001b[0m \u001b[0;34m+=\u001b[0m \u001b[0;36m1\u001b[0m\u001b[0;34m\u001b[0m\u001b[0;34m\u001b[0m\u001b[0m\n",
            "\u001b[0;32m/usr/local/lib/python3.7/dist-packages/xgboost/core.py\u001b[0m in \u001b[0;36mupdate\u001b[0;34m(self, dtrain, iteration, fobj)\u001b[0m\n\u001b[1;32m   1107\u001b[0m         \u001b[0;32mif\u001b[0m \u001b[0mfobj\u001b[0m \u001b[0;32mis\u001b[0m \u001b[0;32mNone\u001b[0m\u001b[0;34m:\u001b[0m\u001b[0;34m\u001b[0m\u001b[0;34m\u001b[0m\u001b[0m\n\u001b[1;32m   1108\u001b[0m             _check_call(_LIB.XGBoosterUpdateOneIter(self.handle, ctypes.c_int(iteration),\n\u001b[0;32m-> 1109\u001b[0;31m                                                     dtrain.handle))\n\u001b[0m\u001b[1;32m   1110\u001b[0m         \u001b[0;32melse\u001b[0m\u001b[0;34m:\u001b[0m\u001b[0;34m\u001b[0m\u001b[0;34m\u001b[0m\u001b[0m\n\u001b[1;32m   1111\u001b[0m             \u001b[0mpred\u001b[0m \u001b[0;34m=\u001b[0m \u001b[0mself\u001b[0m\u001b[0;34m.\u001b[0m\u001b[0mpredict\u001b[0m\u001b[0;34m(\u001b[0m\u001b[0mdtrain\u001b[0m\u001b[0;34m)\u001b[0m\u001b[0;34m\u001b[0m\u001b[0;34m\u001b[0m\u001b[0m\n",
            "\u001b[0;31mKeyboardInterrupt\u001b[0m: "
          ]
        }
      ],
      "source": [
        "from sklearn.model_selection import GridSearchCV\n",
        "\n",
        "# grid search를 하고 싶을 경우 아래 Code를 주석 해제\n",
        "\n",
        "#parameters = {\n",
        " #   \"learning_rate\" : [0.1, 0.01, 0.001, 0.0001],\n",
        "   # \"eta\"    : [0.05, 0.10, 0.15, 0.20, 0.25, 0.30 ] ,\n",
        "  #  \"max_depth\"        : [ 3, 4, 5, 6, 8, 10, 12, 15],\n",
        "  #    \"min_child_weight\" : [ 1, 3, 5, 7 ],\n",
        "  #    \"gamma\"            : [ 0.0, 0.1, 0.2 , 0.3, 0.4],\n",
        "  #    \"colsample_bytree\" : [ 0.3, 0.4, 0.5 , 0.7 ]\n",
        "  #    }\n",
        "\n",
        "#grid = GridSearchCV(xgb,\n",
        "#                   parameters, n_jobs=4,\n",
        "#                    scoring=\"neg_log_loss\",\n",
        "#                    cv=5)\n",
        "#grid.fit(\n",
        " #   x_train.squeeze(), \n",
        " #   y_train, \n",
        " #   eval_metric=\"auc\", \n",
        " #   eval_set=[(x_train, y_train), (x_valid, y_valid)], \n",
        " #   verbose=True)\n",
        "\n",
        "xgb.fit(\n",
        "    x_train,\n",
        "    y_train, \n",
        "    eval_metric=[\"auc\",\"error\"], \n",
        "    eval_set=[(x_train, y_train), (x_valid, y_valid)], \n",
        "    verbose=True)\n",
        "\n",
        "print()"
      ]
    },
    {
      "cell_type": "code",
      "execution_count": null,
      "metadata": {
        "id": "zLEwH9ERCqVz"
      },
      "outputs": [],
      "source": [
        "from sklearn.metrics import accuracy_score, roc_auc_score, f1_score\n",
        "\n",
        "y_pred = xgb.predict(x_test)\n",
        "y_pred_proba = xgb.predict_proba(x_test)[:, 1]\n",
        "\n",
        "\n",
        "print(\"Accuracy : %f\" % accuracy_score(y_test, y_pred))\n",
        "print(\"AUC Score (training set): %f\" % roc_auc_score(y_test, y_pred_proba))\n",
        "print(\"F1 Score (training set): %f\" % f1_score(y_test, y_pred))"
      ]
    },
    {
      "cell_type": "code",
      "execution_count": null,
      "metadata": {
        "id": "KexVQGGrCqTS"
      },
      "outputs": [],
      "source": [
        "draw_confusion_matrix(xgb, x_test, y_test, \"xgboost\")"
      ]
    },
    {
      "cell_type": "code",
      "execution_count": null,
      "metadata": {
        "id": "rXaN1cEz1g3O"
      },
      "outputs": [],
      "source": [
        "draw_roc(clf_lr_1, x_test, y_test, \"logistic_regression\")"
      ]
    },
    {
      "cell_type": "code",
      "execution_count": null,
      "metadata": {
        "id": "rzOnUGNg1mhf"
      },
      "outputs": [],
      "source": [
        "draw_roc(clf_lr_2, x_test, y_test, \"logistic_regression_numpy\") "
      ]
    },
    {
      "cell_type": "code",
      "execution_count": null,
      "metadata": {
        "id": "qQi06AAYCqQ5"
      },
      "outputs": [],
      "source": [
        "draw_roc(xgb, x_test, y_test, \"xgboost\")"
      ]
    },
    {
      "cell_type": "code",
      "execution_count": null,
      "metadata": {
        "id": "8QxPkPyyCqOk"
      },
      "outputs": [],
      "source": [
        "xgb_results = xgb.evals_result()  # xgboost 모델의 평가 결과 불러오기\n",
        "epochs = len(xgb_results['validation_0']['error'])    # iteration 수\n",
        "x_axis = range(0, epochs)  # x축(epoch) 범위 설정\n",
        "\n",
        "\n",
        "# plot classification error\n",
        "fig, ax = plt.subplots(figsize=(10,4))\n",
        "ax.plot(x_axis, xgb_results['validation_0']['error'], label='Train')\n",
        "ax.plot(x_axis, xgb_results['validation_1']['error'], label='Validation')\n",
        "ax.legend()\n",
        "\n",
        "plt.ylabel('Classification Error')\n",
        "plt.title('XGBoost Classification Error')\n",
        "plt.tight_layout()\n",
        "plt.show()\n",
        "\n",
        "\n",
        "# plot auc\n",
        "fig, ax = plt.subplots(figsize=(10,4))\n",
        "ax.plot(x_axis, xgb_results['validation_0']['auc'], label='Train')\n",
        "ax.plot(x_axis, xgb_results['validation_1']['auc'], label='Validation')\n",
        "ax.legend()\n",
        "\n",
        "plt.ylabel('AUC')\n",
        "plt.title('XGBoost AUC')\n",
        "plt.tight_layout()\n",
        "plt.show()"
      ]
    },
    {
      "cell_type": "code",
      "execution_count": null,
      "metadata": {
        "id": "TJSQbjT1CqMG"
      },
      "outputs": [],
      "source": [
        "from sklearn.metrics import accuracy_score, roc_auc_score, f1_score\n",
        "\n",
        "feat_imp = xgb.feature_importances_\n",
        "idx = np.where(feat_imp > 0.004)\n",
        "feat_imp_important = feat_imp[idx]\n",
        "feat = [\"sensor_{}\".format(i+1) for i in idx[0]]\n",
        "\n",
        "res_df = pd.DataFrame({'Features': feat, 'Importance': feat_imp_important}).sort_values(by='Importance', ascending=False)\n",
        "res_df.plot('Features', 'Importance', kind='bar', title='Feature Importances', figsize = (7, 5) )\n",
        "plt.ylabel('Feature Importance Score')\n",
        "plt.tight_layout()\n",
        "plt.show()\n",
        "print(res_df)\n",
        "print(res_df[\"Features\"].tolist())"
      ]
    },
    {
      "cell_type": "code",
      "execution_count": null,
      "metadata": {
        "id": "7gwFs2ZsCqJb"
      },
      "outputs": [],
      "source": [
        "from tensorflow.keras.models import Sequential\n",
        "from tensorflow.keras.layers import LSTM, Flatten, Dense, Embedding, Dropout\n",
        "\n",
        "def make_rnn_model():\n",
        "    model = Sequential()\n",
        "    model.add(LSTM(units=256,return_sequences=True))  \n",
        "    model.add(Flatten())\n",
        "    model.add(Dense(256, activation='relu'))\n",
        "    model.add(Dropout(0.3))\n",
        "    model.add(Dense(128, activation='relu'))\n",
        "    model.add(Dropout(0.3))\n",
        "    model.add(Dense(2, activation='softmax'))\n",
        "    return model\n",
        " \n",
        "rnn_model = make_rnn_model()"
      ]
    },
    {
      "cell_type": "code",
      "execution_count": null,
      "metadata": {
        "colab": {
          "base_uri": "https://localhost:8080/"
        },
        "id": "Km117PeKfp4p",
        "outputId": "107d58f0-1a77-48d7-85ae-1b5cd4bf676c"
      },
      "outputs": [
        {
          "name": "stdout",
          "output_type": "stream",
          "text": [
            "Epoch 1/100\n",
            "45/45 [==============================] - 115s 2s/step - loss: 0.7146 - sparse_categorical_accuracy: 0.6181 - val_loss: 0.6017 - val_sparse_categorical_accuracy: 0.6588 - lr: 0.0010\n",
            "Epoch 2/100\n",
            "45/45 [==============================] - 116s 3s/step - loss: 0.5738 - sparse_categorical_accuracy: 0.6951 - val_loss: 0.5892 - val_sparse_categorical_accuracy: 0.6893 - lr: 0.0010\n",
            "Epoch 3/100\n",
            "45/45 [==============================] - 118s 3s/step - loss: 0.5474 - sparse_categorical_accuracy: 0.7309 - val_loss: 0.5892 - val_sparse_categorical_accuracy: 0.6782 - lr: 0.0010\n",
            "Epoch 4/100\n",
            "45/45 [==============================] - 114s 3s/step - loss: 0.5145 - sparse_categorical_accuracy: 0.7573 - val_loss: 0.5795 - val_sparse_categorical_accuracy: 0.6796 - lr: 0.0010\n",
            "Epoch 5/100\n",
            "45/45 [==============================] - 115s 3s/step - loss: 0.4703 - sparse_categorical_accuracy: 0.7767 - val_loss: 0.5917 - val_sparse_categorical_accuracy: 0.6976 - lr: 0.0010\n",
            "Epoch 6/100\n",
            "45/45 [==============================] - 113s 3s/step - loss: 0.4334 - sparse_categorical_accuracy: 0.8052 - val_loss: 0.5773 - val_sparse_categorical_accuracy: 0.6949 - lr: 0.0010\n",
            "Epoch 7/100\n",
            "45/45 [==============================] - 111s 2s/step - loss: 0.3909 - sparse_categorical_accuracy: 0.8326 - val_loss: 0.6036 - val_sparse_categorical_accuracy: 0.7184 - lr: 0.0010\n",
            "Epoch 8/100\n",
            "45/45 [==============================] - 113s 3s/step - loss: 0.3342 - sparse_categorical_accuracy: 0.8562 - val_loss: 0.5263 - val_sparse_categorical_accuracy: 0.7587 - lr: 0.0010\n",
            "Epoch 9/100\n",
            "45/45 [==============================] - 114s 3s/step - loss: 0.2686 - sparse_categorical_accuracy: 0.8885 - val_loss: 0.4625 - val_sparse_categorical_accuracy: 0.8266 - lr: 0.0010\n",
            "Epoch 10/100\n",
            "45/45 [==============================] - 111s 2s/step - loss: 0.2684 - sparse_categorical_accuracy: 0.8944 - val_loss: 0.5158 - val_sparse_categorical_accuracy: 0.7836 - lr: 0.0010\n",
            "Epoch 11/100\n",
            "45/45 [==============================] - 110s 2s/step - loss: 0.2378 - sparse_categorical_accuracy: 0.9073 - val_loss: 0.5450 - val_sparse_categorical_accuracy: 0.7323 - lr: 0.0010\n",
            "Epoch 12/100\n",
            "45/45 [==============================] - 110s 2s/step - loss: 0.2090 - sparse_categorical_accuracy: 0.9198 - val_loss: 0.5769 - val_sparse_categorical_accuracy: 0.7739 - lr: 0.0010\n",
            "Epoch 13/100\n",
            "45/45 [==============================] - 109s 2s/step - loss: 0.1685 - sparse_categorical_accuracy: 0.9326 - val_loss: 0.5128 - val_sparse_categorical_accuracy: 0.8239 - lr: 0.0010\n",
            "Epoch 14/100\n",
            "45/45 [==============================] - 109s 2s/step - loss: 0.1337 - sparse_categorical_accuracy: 0.9458 - val_loss: 0.5021 - val_sparse_categorical_accuracy: 0.8183 - lr: 0.0010\n",
            "Epoch 15/100\n",
            "45/45 [==============================] - 113s 3s/step - loss: 0.1063 - sparse_categorical_accuracy: 0.9563 - val_loss: 0.4419 - val_sparse_categorical_accuracy: 0.8419 - lr: 0.0010\n",
            "Epoch 16/100\n",
            "45/45 [==============================] - 111s 2s/step - loss: 0.0874 - sparse_categorical_accuracy: 0.9667 - val_loss: 0.5438 - val_sparse_categorical_accuracy: 0.8322 - lr: 0.0010\n",
            "Epoch 17/100\n",
            "45/45 [==============================] - 110s 2s/step - loss: 0.0881 - sparse_categorical_accuracy: 0.9646 - val_loss: 0.5329 - val_sparse_categorical_accuracy: 0.8294 - lr: 0.0010\n",
            "Epoch 18/100\n",
            "45/45 [==============================] - 109s 2s/step - loss: 0.0880 - sparse_categorical_accuracy: 0.9646 - val_loss: 0.5644 - val_sparse_categorical_accuracy: 0.8336 - lr: 0.0010\n",
            "Epoch 19/100\n",
            "45/45 [==============================] - 109s 2s/step - loss: 0.0783 - sparse_categorical_accuracy: 0.9719 - val_loss: 0.5538 - val_sparse_categorical_accuracy: 0.8627 - lr: 0.0010\n",
            "Epoch 20/100\n",
            "45/45 [==============================] - 109s 2s/step - loss: 0.0756 - sparse_categorical_accuracy: 0.9705 - val_loss: 0.5912 - val_sparse_categorical_accuracy: 0.8405 - lr: 0.0010\n",
            "Epoch 21/100\n",
            "45/45 [==============================] - 110s 2s/step - loss: 0.0686 - sparse_categorical_accuracy: 0.9760 - val_loss: 0.5528 - val_sparse_categorical_accuracy: 0.8377 - lr: 0.0010\n",
            "Epoch 22/100\n",
            "45/45 [==============================] - 112s 2s/step - loss: 0.0743 - sparse_categorical_accuracy: 0.9740 - val_loss: 0.5770 - val_sparse_categorical_accuracy: 0.8363 - lr: 0.0010\n",
            "Epoch 23/100\n",
            "45/45 [==============================] - 109s 2s/step - loss: 0.0498 - sparse_categorical_accuracy: 0.9833 - val_loss: 0.6177 - val_sparse_categorical_accuracy: 0.8419 - lr: 0.0010\n",
            "Epoch 24/100\n",
            "45/45 [==============================] - 110s 2s/step - loss: 0.0377 - sparse_categorical_accuracy: 0.9858 - val_loss: 0.6306 - val_sparse_categorical_accuracy: 0.8460 - lr: 0.0010\n",
            "Epoch 25/100\n",
            "45/45 [==============================] - 110s 2s/step - loss: 0.0388 - sparse_categorical_accuracy: 0.9861 - val_loss: 0.6175 - val_sparse_categorical_accuracy: 0.8447 - lr: 0.0010\n",
            "Epoch 00025: early stopping\n"
          ]
        }
      ],
      "source": [
        "from tensorflow.keras.callbacks import Callback, EarlyStopping, ModelCheckpoint, ReduceLROnPlateau\n",
        "\n",
        "epochs= 100\n",
        "batch_size = 64\n",
        "\n",
        "rnn_model.compile(loss=\"sparse_categorical_crossentropy\", \n",
        "                  optimizer='adam', \n",
        "                  metrics=[\"sparse_categorical_accuracy\"]\n",
        "                 )\n",
        "\n",
        "callbacks = [ModelCheckpoint(data_path + 'rnn_best_model.h5', \n",
        "                             monitor='val_loss',\n",
        "                             save_best_only=True),\n",
        "             ReduceLROnPlateau(\n",
        "                 monitor=\"val_loss\", factor=0.5, patience=20, min_lr=0.0001\n",
        "                 ),\n",
        "             EarlyStopping(monitor=\"val_loss\", patience=10, verbose=1)\n",
        "             ]\n",
        "\n",
        "history_rnn = rnn_model.fit(\n",
        "    x_train_exp,\n",
        "    y_train,\n",
        "    batch_size=batch_size,\n",
        "    epochs=epochs,\n",
        "    callbacks=callbacks,\n",
        "    validation_data=(x_valid_exp, y_valid),\n",
        "    verbose=1\n",
        ")"
      ]
    },
    {
      "cell_type": "code",
      "execution_count": null,
      "metadata": {
        "colab": {
          "base_uri": "https://localhost:8080/"
        },
        "id": "NbGx8BhPfwi_",
        "outputId": "3390f365-0183-46a0-947e-9da15f13a95d"
      },
      "outputs": [
        {
          "name": "stdout",
          "output_type": "stream",
          "text": [
            "42/42 [==============================] - 20s 475ms/step - loss: 0.4436 - sparse_categorical_accuracy: 0.8470\n",
            "\n",
            "Test accuracy 0.846969723701477\n",
            "\n",
            "Test loss 0.44357526302337646\n"
          ]
        }
      ],
      "source": [
        "from tensorflow.keras.models import load_model\n",
        "\n",
        "rnn_model = tf.keras.models.load_model(data_path + \"rnn_best_model.h5\")\n",
        "scores = rnn_model.evaluate(x_test_exp, y_test)\n",
        "\n",
        "print(\"\\n\"\"Test accuracy\", scores[1])\n",
        "print(\"\\n\"\"Test loss\", scores[0])\n"
      ]
    },
    {
      "cell_type": "code",
      "execution_count": null,
      "metadata": {
        "id": "Zy21pznufy35"
      },
      "outputs": [],
      "source": [
        "draw_confusion_matrix(rnn_model, x_test_exp, y_test, \"rnn\")"
      ]
    },
    {
      "cell_type": "code",
      "execution_count": null,
      "metadata": {
        "id": "rSlXz9yfog7C"
      },
      "outputs": [],
      "source": [
        "draw_roc(rnn_model, x_test_exp, y_test, \"rnn\")"
      ]
    },
    {
      "cell_type": "code",
      "execution_count": null,
      "metadata": {
        "id": "PdYfm57qpj7D"
      },
      "outputs": [],
      "source": [
        "def plot_loss_graph(history, pic_name):\n",
        "    plt.figure()\n",
        "    plt.plot(history.history['loss'])\n",
        "    plt.plot(history.history[\"val_loss\"])\n",
        "    plt.title(\"Training & Validation Loss\")\n",
        "    plt.ylabel(\"loss\", fontsize=\"large\")\n",
        "    plt.xlabel(\"epoch\", fontsize=\"large\")\n",
        "    plt.legend([\"train\", \"validation\"], loc=\"best\")\n",
        "    plt.tight_layout()\n",
        "    plt.savefig(data_path + '{}.png'.format(pic_name), dpi=100, bbox_inches='tight')  # 그림 저장\n",
        "    plt.show()\n",
        "    plt.close()"
      ]
    },
    {
      "cell_type": "code",
      "execution_count": null,
      "metadata": {
        "id": "9b_FsIB7pnVR"
      },
      "outputs": [],
      "source": [
        "def plot_prediction_graph(history, pic_name):\n",
        "    plt.figure()\n",
        "    plt.plot(history.history[\"sparse_categorical_accuracy\"])\n",
        "    plt.plot(history.history[\"val_\" + \"sparse_categorical_accuracy\"])\n",
        "    plt.title(\"model \" + \"Prediction Accuracy\")\n",
        "    plt.ylabel(\"sparse_categorical_accuracy\", fontsize=\"large\")\n",
        "    plt.xlabel(\"epoch\", fontsize=\"large\")\n",
        "    plt.legend([\"train\", \"validation\"], loc=\"best\")\n",
        "    plt.tight_layout()\n",
        "    plt.savefig(data_path + '{}.png'.format(pic_name), dpi=100, bbox_inches='tight')  # 그림 저장\n",
        "    plt.show()\n",
        "    plt.close()"
      ]
    },
    {
      "cell_type": "code",
      "execution_count": null,
      "metadata": {
        "id": "iSRvneIfohY7"
      },
      "outputs": [],
      "source": [
        "plot_loss_graph(history_rnn, \"rnn\")"
      ]
    },
    {
      "cell_type": "code",
      "execution_count": null,
      "metadata": {
        "id": "yLE8pzjaoqvK"
      },
      "outputs": [],
      "source": [
        "plot_prediction_graph(history_rnn, \"rnn\")"
      ]
    },
    {
      "cell_type": "code",
      "execution_count": null,
      "metadata": {
        "id": "LdVfLTEjoqoK"
      },
      "outputs": [],
      "source": [
        "from tensorflow.keras.models import Sequential\n",
        "from tensorflow.keras.layers import BatchNormalization, Conv1D, ReLU, GlobalAveragePooling1D, Dense\n",
        "\n",
        "def make_cnn_model():\n",
        "    model = Sequential()\n",
        "    model.add(Conv1D(filters=64, kernel_size=3, padding=\"same\"))\n",
        "    model.add(BatchNormalization())\n",
        "    model.add(ReLU())\n",
        "    model.add(Conv1D(filters=64, kernel_size=3, padding=\"same\"))\n",
        "    model.add(BatchNormalization())\n",
        "    model.add(ReLU())\n",
        "    model.add(Conv1D(filters=64, kernel_size=3,padding=\"same\"))\n",
        "    model.add(BatchNormalization())\n",
        "    model.add(ReLU())\n",
        "    model.add(GlobalAveragePooling1D())\n",
        "    model.add(Dense(2, activation=\"softmax\"))\n",
        "    return model\n",
        "\n",
        "cnn_model = make_cnn_model()"
      ]
    },
    {
      "cell_type": "code",
      "execution_count": null,
      "metadata": {
        "id": "0LqnK8CB86fl"
      },
      "outputs": [],
      "source": [
        "from tensorflow.keras.callbacks import Callback, EarlyStopping, ModelCheckpoint, ReduceLROnPlateau\n",
        "\n",
        "epochs = 300\n",
        "batch_size = 64\n",
        "\n",
        "callbacks = [\n",
        "    ModelCheckpoint(\n",
        "        save_path + \"cnn_best_model.h5\", save_best_only=True, monitor=\"val_loss\"\n",
        "    ),\n",
        "    ReduceLROnPlateau(\n",
        "        monitor=\"val_loss\", factor=0.5, patience=20, min_lr=0.0001\n",
        "    ),\n",
        "    EarlyStopping(monitor=\"val_loss\", patience=50, verbose=1),\n",
        "]\n",
        "\n",
        "cnn_model.compile(\n",
        "    optimizer=\"adam\",\n",
        "    loss=\"sparse_categorical_crossentropy\",\n",
        "    metrics=[\"sparse_categorical_accuracy\"],\n",
        ")\n",
        "\n",
        "history_cnn = cnn_model.fit(\n",
        "    x_train_exp,\n",
        "    y_train,\n",
        "    batch_size=batch_size,\n",
        "    epochs=epochs,\n",
        "    callbacks=callbacks,\n",
        "    validation_data=(x_valid_exp, y_valid),\n",
        "    verbose=1,\n",
        ")"
      ]
    }
  ],
  "metadata": {
    "colab": {
      "collapsed_sections": [],
      "name": "ford engine",
      "provenance": []
    },
    "kernelspec": {
      "display_name": "Python 3",
      "name": "python3"
    },
    "language_info": {
      "name": "python"
    }
  },
  "nbformat": 4,
  "nbformat_minor": 0
}